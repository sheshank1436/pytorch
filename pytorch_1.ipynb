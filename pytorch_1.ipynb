{
  "nbformat": 4,
  "nbformat_minor": 0,
  "metadata": {
    "colab": {
      "name": "pytorch-1.ipynb",
      "provenance": [],
      "authorship_tag": "ABX9TyPNAXO/Wdn2EjVAEh+4LTgX",
      "include_colab_link": true
    },
    "kernelspec": {
      "name": "python3",
      "display_name": "Python 3"
    }
  },
  "cells": [
    {
      "cell_type": "markdown",
      "metadata": {
        "id": "view-in-github",
        "colab_type": "text"
      },
      "source": [
        "<a href=\"https://colab.research.google.com/github/sheshank1436/pytorch/blob/master/pytorch_1.ipynb\" target=\"_parent\"><img src=\"https://colab.research.google.com/assets/colab-badge.svg\" alt=\"Open In Colab\"/></a>"
      ]
    },
    {
      "cell_type": "code",
      "metadata": {
        "id": "typvp4IME7wv",
        "colab_type": "code",
        "colab": {}
      },
      "source": [
        ""
      ],
      "execution_count": 185,
      "outputs": []
    },
    {
      "cell_type": "markdown",
      "metadata": {
        "id": "QindBb6ZE8rT",
        "colab_type": "text"
      },
      "source": [
        " This is the first Part of pytorch training from basics"
      ]
    },
    {
      "cell_type": "code",
      "metadata": {
        "id": "8BACg39nXcXI",
        "colab_type": "code",
        "colab": {}
      },
      "source": [
        "#import pytorch\n",
        "import torch\n"
      ],
      "execution_count": 186,
      "outputs": []
    },
    {
      "cell_type": "markdown",
      "metadata": {
        "id": "L5NS6Zj6E48Y",
        "colab_type": "text"
      },
      "source": [
        ""
      ]
    },
    {
      "cell_type": "code",
      "metadata": {
        "id": "kSIOUPlnXksC",
        "colab_type": "code",
        "colab": {
          "base_uri": "https://localhost:8080/",
          "height": 68
        },
        "outputId": "5c18e2e3-9661-4844-db7d-8964290b2b22"
      },
      "source": [
        "#scalar\n",
        "t1=torch.tensor(1)\n",
        "print(t1.dtype)\n",
        "print(t1)\n",
        "t1=torch.tensor(2,dtype=float)\n",
        "print(t1)"
      ],
      "execution_count": 187,
      "outputs": [
        {
          "output_type": "stream",
          "text": [
            "torch.int64\n",
            "tensor(1)\n",
            "tensor(2., dtype=torch.float64)\n"
          ],
          "name": "stdout"
        }
      ]
    },
    {
      "cell_type": "code",
      "metadata": {
        "id": "_EwDQ1VKXkun",
        "colab_type": "code",
        "colab": {
          "base_uri": "https://localhost:8080/",
          "height": 51
        },
        "outputId": "32dd04d4-0b50-4965-e79c-b70093c39092"
      },
      "source": [
        "#vector\n",
        "t2=torch.tensor([1,3,2,4])\n",
        "print(t2.dtype)\n",
        "print(t2)"
      ],
      "execution_count": 188,
      "outputs": [
        {
          "output_type": "stream",
          "text": [
            "torch.int64\n",
            "tensor([1, 3, 2, 4])\n"
          ],
          "name": "stdout"
        }
      ]
    },
    {
      "cell_type": "code",
      "metadata": {
        "id": "zEqasPEyXkxf",
        "colab_type": "code",
        "colab": {
          "base_uri": "https://localhost:8080/",
          "height": 85
        },
        "outputId": "bf2c9068-4139-48d9-9b06-8155f33ea9bf"
      },
      "source": [
        "#2dim array\n",
        "t3=torch.tensor([[1,3],[3,4],[1,4]])\n",
        "print(t3.dtype)\n",
        "print(t3)"
      ],
      "execution_count": 189,
      "outputs": [
        {
          "output_type": "stream",
          "text": [
            "torch.int64\n",
            "tensor([[1, 3],\n",
            "        [3, 4],\n",
            "        [1, 4]])\n"
          ],
          "name": "stdout"
        }
      ]
    },
    {
      "cell_type": "code",
      "metadata": {
        "id": "1Pr0kfc3Xk0A",
        "colab_type": "code",
        "colab": {
          "base_uri": "https://localhost:8080/",
          "height": 102
        },
        "outputId": "3e877413-3d8b-4d1c-b968-9a7a69863a64"
      },
      "source": [
        "#3dim array(tensors)\n",
        "t4=torch.tensor([[1,3,3],[3,4,5],[1,4,6]])\n",
        "print(t4.dtype)\n",
        "print(t4)\n",
        "print('shape of tensor:',t4.shape)"
      ],
      "execution_count": 190,
      "outputs": [
        {
          "output_type": "stream",
          "text": [
            "torch.int64\n",
            "tensor([[1, 3, 3],\n",
            "        [3, 4, 5],\n",
            "        [1, 4, 6]])\n",
            "shape of tensor: torch.Size([3, 3])\n"
          ],
          "name": "stdout"
        }
      ]
    },
    {
      "cell_type": "code",
      "metadata": {
        "id": "P3iaLVMdbpsa",
        "colab_type": "code",
        "colab": {
          "base_uri": "https://localhost:8080/",
          "height": 34
        },
        "outputId": "8f0edefe-d31e-4970-8511-d59784a2ceed"
      },
      "source": [
        "#addition\n",
        "x=torch.tensor([1.,3.,2.],requires_grad=True)\n",
        "m=torch.tensor([2,2,2])\n",
        "c=torch.tensor([1,1,1])\n",
        "y=m*x+c\n",
        "print(y)"
      ],
      "execution_count": 191,
      "outputs": [
        {
          "output_type": "stream",
          "text": [
            "tensor([3., 7., 5.], grad_fn=<AddBackward0>)\n"
          ],
          "name": "stdout"
        }
      ]
    },
    {
      "cell_type": "code",
      "metadata": {
        "id": "af-e6yw6gjBV",
        "colab_type": "code",
        "colab": {}
      },
      "source": [
        ""
      ],
      "execution_count": 191,
      "outputs": []
    },
    {
      "cell_type": "code",
      "metadata": {
        "id": "u6K0igJjfJNO",
        "colab_type": "code",
        "colab": {
          "base_uri": "https://localhost:8080/",
          "height": 34
        },
        "outputId": "a83c8f62-458a-487c-9a31-632eb68feea5"
      },
      "source": [
        "a=torch.tensor(1.,requires_grad=True)\n",
        "b=torch.tensor(11.,requires_grad=True)\n",
        "c=torch.tensor(5.)\n",
        "g=a*b+c\n",
        "print(g)"
      ],
      "execution_count": 192,
      "outputs": [
        {
          "output_type": "stream",
          "text": [
            "tensor(16., grad_fn=<AddBackward0>)\n"
          ],
          "name": "stdout"
        }
      ]
    },
    {
      "cell_type": "code",
      "metadata": {
        "id": "-2IY3aP6gti9",
        "colab_type": "code",
        "colab": {}
      },
      "source": [
        "g.backward()"
      ],
      "execution_count": 193,
      "outputs": []
    },
    {
      "cell_type": "code",
      "metadata": {
        "id": "jcDbg4mofxtc",
        "colab_type": "code",
        "colab": {
          "base_uri": "https://localhost:8080/",
          "height": 34
        },
        "outputId": "e1379da2-f9df-4c8a-be44-c806e749c623"
      },
      "source": [
        "print('dg/da',a.grad)"
      ],
      "execution_count": 194,
      "outputs": [
        {
          "output_type": "stream",
          "text": [
            "dg/da tensor(11.)\n"
          ],
          "name": "stdout"
        }
      ]
    },
    {
      "cell_type": "code",
      "metadata": {
        "id": "ciFJTYmFggI1",
        "colab_type": "code",
        "colab": {
          "base_uri": "https://localhost:8080/",
          "height": 34
        },
        "outputId": "2bf6ab1c-b8bb-4f7c-d39a-a286b58d381f"
      },
      "source": [
        "print('dg/db',b.grad)"
      ],
      "execution_count": 195,
      "outputs": [
        {
          "output_type": "stream",
          "text": [
            "dg/db tensor(1.)\n"
          ],
          "name": "stdout"
        }
      ]
    },
    {
      "cell_type": "code",
      "metadata": {
        "id": "KdHo3Va5g174",
        "colab_type": "code",
        "colab": {}
      },
      "source": [
        "import numpy as np"
      ],
      "execution_count": 196,
      "outputs": []
    },
    {
      "cell_type": "code",
      "metadata": {
        "id": "ctlyeNznhwh0",
        "colab_type": "code",
        "colab": {
          "base_uri": "https://localhost:8080/",
          "height": 68
        },
        "outputId": "88c285b1-3c4f-4664-8da6-54dcbadc6b45"
      },
      "source": [
        "a=np.array([[1,2],[1,3]])\n",
        "print(a)\n",
        "print(a.dtype)"
      ],
      "execution_count": 197,
      "outputs": [
        {
          "output_type": "stream",
          "text": [
            "[[1 2]\n",
            " [1 3]]\n",
            "int64\n"
          ],
          "name": "stdout"
        }
      ]
    },
    {
      "cell_type": "code",
      "metadata": {
        "id": "jtt0NdM_h4Ws",
        "colab_type": "code",
        "colab": {
          "base_uri": "https://localhost:8080/",
          "height": 85
        },
        "outputId": "e315f505-f652-4506-e241-0421b0d368db"
      },
      "source": [
        "#CONVERSION OF NUMPY ARRAYS TO TENSORS\n",
        "b=torch.from_numpy(a)\n",
        "print(b)\n",
        "print(b.dtype)\n",
        "print(type(b))"
      ],
      "execution_count": 198,
      "outputs": [
        {
          "output_type": "stream",
          "text": [
            "tensor([[1, 2],\n",
            "        [1, 3]])\n",
            "torch.int64\n",
            "<class 'torch.Tensor'>\n"
          ],
          "name": "stdout"
        }
      ]
    },
    {
      "cell_type": "code",
      "metadata": {
        "id": "mKVPtfxDifsU",
        "colab_type": "code",
        "colab": {
          "base_uri": "https://localhost:8080/",
          "height": 68
        },
        "outputId": "28c6b0be-413a-43e6-cd68-5d1a9ce0f246"
      },
      "source": [
        "#conversion of tensors back to numpy  array\n",
        "c=b.numpy()\n",
        "print(type(c))\n",
        "print(c)"
      ],
      "execution_count": 199,
      "outputs": [
        {
          "output_type": "stream",
          "text": [
            "<class 'numpy.ndarray'>\n",
            "[[1 2]\n",
            " [1 3]]\n"
          ],
          "name": "stdout"
        }
      ]
    },
    {
      "cell_type": "code",
      "metadata": {
        "id": "Q28xE2ZTjQJW",
        "colab_type": "code",
        "colab": {}
      },
      "source": [
        "#regression with tensors without using any inbuilt functions\n",
        "inputs=np.array([[73,67,43],\n",
        "                 [91,88,64],\n",
        "                 [87,134,58],\n",
        "                 [102,43,37],\n",
        "                 [69,96,70]],dtype='float32')\n",
        "outputs=np.array([[56,70],\n",
        "                 [81,101],\n",
        "                 [119,133],\n",
        "                 [22,37],\n",
        "                 [103,119]],dtype='float32')"
      ],
      "execution_count": 200,
      "outputs": []
    },
    {
      "cell_type": "code",
      "metadata": {
        "id": "FbnDn-BVkA_d",
        "colab_type": "code",
        "colab": {}
      },
      "source": [
        "input=torch.from_numpy(inputs)\n",
        "output=torch.from_numpy(outputs)\n"
      ],
      "execution_count": 201,
      "outputs": []
    },
    {
      "cell_type": "code",
      "metadata": {
        "id": "YfvnNCm99QIK",
        "colab_type": "code",
        "colab": {
          "base_uri": "https://localhost:8080/",
          "height": 102
        },
        "outputId": "dda15b19-028c-4ba7-b006-8ff5922a1b54"
      },
      "source": [
        "input"
      ],
      "execution_count": 202,
      "outputs": [
        {
          "output_type": "execute_result",
          "data": {
            "text/plain": [
              "tensor([[ 73.,  67.,  43.],\n",
              "        [ 91.,  88.,  64.],\n",
              "        [ 87., 134.,  58.],\n",
              "        [102.,  43.,  37.],\n",
              "        [ 69.,  96.,  70.]])"
            ]
          },
          "metadata": {
            "tags": []
          },
          "execution_count": 202
        }
      ]
    },
    {
      "cell_type": "code",
      "metadata": {
        "id": "uyGG36AI9vFp",
        "colab_type": "code",
        "colab": {
          "base_uri": "https://localhost:8080/",
          "height": 102
        },
        "outputId": "0979ac93-35a7-4d74-a9be-e99fa1b19a81"
      },
      "source": [
        "output"
      ],
      "execution_count": 203,
      "outputs": [
        {
          "output_type": "execute_result",
          "data": {
            "text/plain": [
              "tensor([[ 56.,  70.],\n",
              "        [ 81., 101.],\n",
              "        [119., 133.],\n",
              "        [ 22.,  37.],\n",
              "        [103., 119.]])"
            ]
          },
          "metadata": {
            "tags": []
          },
          "execution_count": 203
        }
      ]
    },
    {
      "cell_type": "markdown",
      "metadata": {
        "id": "KK9L_vOdFh91",
        "colab_type": "text"
      },
      "source": [
        "here for weights column we took the shape as (2,3 ) which we will transpose to make it (3,2) in order to multiply with 3 input cols of input\n",
        "we took 3 because we have 3 input cols and 2 because we have two ouputs for one input row\n",
        "WE HAVE used requires_grad=True here because we provide it only to the variables which will change\n",
        "like in regression we wont change the inputs but instead we change the value of weights and biases  to see which weights provides us the least loss values"
      ]
    },
    {
      "cell_type": "code",
      "metadata": {
        "id": "Nmpe_DBs9waK",
        "colab_type": "code",
        "colab": {
          "base_uri": "https://localhost:8080/",
          "height": 51
        },
        "outputId": "a82ec517-ca34-4efd-b5d7-cdb6b65669e6"
      },
      "source": [
        "\n",
        "w=torch.randn(2,3,requires_grad=True)\n",
        "b=torch.randn(2,requires_grad=True)\n",
        "print(w,b)\n"
      ],
      "execution_count": 204,
      "outputs": [
        {
          "output_type": "stream",
          "text": [
            "tensor([[ 0.8120, -0.8821,  0.2799],\n",
            "        [-0.9043, -1.6943, -1.2545]], requires_grad=True) tensor([-1.0491, -1.9480], requires_grad=True)\n"
          ],
          "name": "stdout"
        }
      ]
    },
    {
      "cell_type": "code",
      "metadata": {
        "id": "OfPGtwfnFuhC",
        "colab_type": "code",
        "colab": {}
      },
      "source": [
        ""
      ],
      "execution_count": null,
      "outputs": []
    },
    {
      "cell_type": "code",
      "metadata": {
        "id": "qoLfFE_eGXqd",
        "colab_type": "code",
        "colab": {}
      },
      "source": [
        ""
      ],
      "execution_count": null,
      "outputs": []
    },
    {
      "cell_type": "code",
      "metadata": {
        "id": "tt7a_PRS-IwC",
        "colab_type": "code",
        "colab": {
          "base_uri": "https://localhost:8080/",
          "height": 102
        },
        "outputId": "aa4a0b01-3d8c-4fe9-c622-277b1d787074"
      },
      "source": [
        "yp=input@w.t()+b\n",
        "yp"
      ],
      "execution_count": 205,
      "outputs": [
        {
          "output_type": "execute_result",
          "data": {
            "text/plain": [
              "tensor([[  11.1586, -235.4209],\n",
              "        [  13.1270, -313.6221],\n",
              "        [ -32.3780, -380.4171],\n",
              "        [  54.1985, -213.4543],\n",
              "        [ -10.1148, -314.8095]], grad_fn=<AddBackward0>)"
            ]
          },
          "metadata": {
            "tags": []
          },
          "execution_count": 205
        }
      ]
    },
    {
      "cell_type": "code",
      "metadata": {
        "id": "xuRo2JSF-gjS",
        "colab_type": "code",
        "colab": {}
      },
      "source": [
        "def model(x):\n",
        "  return input@w.t()+b"
      ],
      "execution_count": 206,
      "outputs": []
    },
    {
      "cell_type": "code",
      "metadata": {
        "id": "jo-WPnqC-hlq",
        "colab_type": "code",
        "colab": {
          "base_uri": "https://localhost:8080/",
          "height": 102
        },
        "outputId": "6ddec2b0-f5be-45e7-e88e-7ae3b0664441"
      },
      "source": [
        "pred=model(input)\n",
        "pred"
      ],
      "execution_count": 207,
      "outputs": [
        {
          "output_type": "execute_result",
          "data": {
            "text/plain": [
              "tensor([[  11.1586, -235.4209],\n",
              "        [  13.1270, -313.6221],\n",
              "        [ -32.3780, -380.4171],\n",
              "        [  54.1985, -213.4543],\n",
              "        [ -10.1148, -314.8095]], grad_fn=<AddBackward0>)"
            ]
          },
          "metadata": {
            "tags": []
          },
          "execution_count": 207
        }
      ]
    },
    {
      "cell_type": "code",
      "metadata": {
        "id": "L_P6AhIpFUM5",
        "colab_type": "code",
        "colab": {
          "base_uri": "https://localhost:8080/",
          "height": 102
        },
        "outputId": "5ce6f71b-98cb-433b-de49-9a1229e244cd"
      },
      "source": [
        "print(output)"
      ],
      "execution_count": 208,
      "outputs": [
        {
          "output_type": "stream",
          "text": [
            "tensor([[ 56.,  70.],\n",
            "        [ 81., 101.],\n",
            "        [119., 133.],\n",
            "        [ 22.,  37.],\n",
            "        [103., 119.]])\n"
          ],
          "name": "stdout"
        }
      ]
    },
    {
      "cell_type": "code",
      "metadata": {
        "id": "3VjLTp35FhJ4",
        "colab_type": "code",
        "colab": {}
      },
      "source": [
        "#In the above we can see that there is a huge difference between the actual and the predicted values\n",
        "#we need to evaluate our model using a loss function\n",
        "#for calculating the loss we need to first calculate the difference between actual and the predicted values\n",
        "#square the loss in order to remove the negative values\n",
        "#THen calculate the sum of the matrix\n",
        "#then calculate the average of the resultant matrix by divding with numel()\n",
        "#this process is know as Mean Square Error(MSE)\n",
        "\n",
        "def error(pred,output):\n",
        "  loss=pred-output\n",
        "  return torch.sum(loss*loss)/loss.numel()\n",
        "\n",
        "\n"
      ],
      "execution_count": 209,
      "outputs": []
    },
    {
      "cell_type": "code",
      "metadata": {
        "id": "6LFjkmlBMM0w",
        "colab_type": "code",
        "colab": {
          "base_uri": "https://localhost:8080/",
          "height": 34
        },
        "outputId": "f2e50039-e5c2-4f33-c6b2-d2bd5c2b2a70"
      },
      "source": [
        "loss=error(pred,output)  \n",
        "print(loss)"
      ],
      "execution_count": 210,
      "outputs": [
        {
          "output_type": "stream",
          "text": [
            "tensor(82307.3125, grad_fn=<DivBackward0>)\n"
          ],
          "name": "stdout"
        }
      ]
    },
    {
      "cell_type": "code",
      "metadata": {
        "id": "XQWhcul6F3lQ",
        "colab_type": "code",
        "colab": {}
      },
      "source": [
        "#As you can see loss is very high for our model the higher the loss the more bad is our model\n",
        "#now we need to improve our model\n",
        "#for that we have a technique called Gradient Descent\n",
        "#In pytorch we can calculate the loss automatically using gradient or derivates of the loss w.r.to the weights and biases because they have requires_grad=True\n",
        "\n",
        "#loss.backward() computes dloss/dx for every parameter x which has requires_grad=True. These are accumulated into x.grad for every parameter x. \n",
        "#everytime you call .backward() it keeps adding grad values to existing grad\n",
        "#Example:x.grad += dloss/dx\n",
        "#optimizer.step updates the value of x using the gradient x.grad. For example, the SGD optimizer performs:\n",
        "#Example:x += -lr * x.grad\n",
        "#optimizer.zero_grad() clears x.grad for every parameter x in the optimizer. It’s important to call this before loss.backward(), otherwise you’ll accumulate the gradients from multiple passes.\n",
        "#we need to use zer_grad() otherwise the new grad values will get added to the existing grad values and this function helps grad values zero\n",
        "#If you have multiple losses (loss1, loss2) you can sum them and then call backwards once\n",
        "loss.backward()"
      ],
      "execution_count": 211,
      "outputs": []
    },
    {
      "cell_type": "code",
      "metadata": {
        "id": "OpLGCV84M7VV",
        "colab_type": "code",
        "colab": {
          "base_uri": "https://localhost:8080/",
          "height": 85
        },
        "outputId": "e03091a9-c442-4c21-9ed2-3bec82acb910"
      },
      "source": [
        "#Here w is the weight matrix which we initialised earlier\n",
        "#here w.grad=dloss/dw\n",
        "print(w)\n",
        "print(w.grad)"
      ],
      "execution_count": 212,
      "outputs": [
        {
          "output_type": "stream",
          "text": [
            "tensor([[ 0.8120, -0.8821,  0.2799],\n",
            "        [-0.9043, -1.6943, -1.2545]], requires_grad=True)\n",
            "tensor([[ -5428.0845,  -7747.2666,  -4355.7334],\n",
            "        [-32034.5645, -35632.6172, -21816.1172]])\n"
          ],
          "name": "stdout"
        }
      ]
    },
    {
      "cell_type": "code",
      "metadata": {
        "id": "mcrYRmvKM_E8",
        "colab_type": "code",
        "colab": {
          "base_uri": "https://localhost:8080/",
          "height": 68
        },
        "outputId": "2d867109-7bd2-4067-8a38-cbc23a1e7fc7"
      },
      "source": [
        "w.grad.zero_()\n",
        "b.grad.zero_()\n",
        "print(w.grad)\n",
        "print(b.grad)"
      ],
      "execution_count": 213,
      "outputs": [
        {
          "output_type": "stream",
          "text": [
            "tensor([[0., 0., 0.],\n",
            "        [0., 0., 0.]])\n",
            "tensor([0., 0.])\n"
          ],
          "name": "stdout"
        }
      ]
    },
    {
      "cell_type": "code",
      "metadata": {
        "id": "a2l1ZX-PT2jE",
        "colab_type": "code",
        "colab": {
          "base_uri": "https://localhost:8080/",
          "height": 68
        },
        "outputId": "8de579ab-a8c2-4fb0-96ce-31d7d13db429"
      },
      "source": [
        "w,b"
      ],
      "execution_count": 214,
      "outputs": [
        {
          "output_type": "execute_result",
          "data": {
            "text/plain": [
              "(tensor([[ 0.8120, -0.8821,  0.2799],\n",
              "         [-0.9043, -1.6943, -1.2545]], requires_grad=True),\n",
              " tensor([-1.0491, -1.9480], requires_grad=True))"
            ]
          },
          "metadata": {
            "tags": []
          },
          "execution_count": 214
        }
      ]
    },
    {
      "cell_type": "code",
      "metadata": {
        "id": "GTu7cLBLT90f",
        "colab_type": "code",
        "colab": {}
      },
      "source": [
        "#For performing the Gradient descent we have a 5 step process\n",
        "#1-Generate predictions\n",
        "#2-Calculate the Loss\n",
        "#3-compute gradient w.r.to weights and biases\n",
        "#4-Adjust the weights by subracting the small quantity proportional to the gradients(we subtract the grad from weights by multiplying the grad with some value in order to make the grad value very small)\n",
        "#5-Reset the gradients to zero"
      ],
      "execution_count": 215,
      "outputs": []
    },
    {
      "cell_type": "code",
      "metadata": {
        "id": "oCaiq9bLXqXM",
        "colab_type": "code",
        "colab": {
          "base_uri": "https://localhost:8080/",
          "height": 102
        },
        "outputId": "d890f88c-f687-4d46-8d04-8f8ed17d1d4b"
      },
      "source": [
        "#Generate Predictions\n",
        "pred=model(input)\n",
        "pred\n"
      ],
      "execution_count": 216,
      "outputs": [
        {
          "output_type": "execute_result",
          "data": {
            "text/plain": [
              "tensor([[  11.1586, -235.4209],\n",
              "        [  13.1270, -313.6221],\n",
              "        [ -32.3780, -380.4171],\n",
              "        [  54.1985, -213.4543],\n",
              "        [ -10.1148, -314.8095]], grad_fn=<AddBackward0>)"
            ]
          },
          "metadata": {
            "tags": []
          },
          "execution_count": 216
        }
      ]
    },
    {
      "cell_type": "code",
      "metadata": {
        "id": "VW2uhg-NYb0a",
        "colab_type": "code",
        "colab": {
          "base_uri": "https://localhost:8080/",
          "height": 34
        },
        "outputId": "5ebe0571-2aa3-43d4-dc4a-89f8d13acbce"
      },
      "source": [
        "#2-Calculate the Loss\n",
        "loss=error(pred,output)\n",
        "loss"
      ],
      "execution_count": 217,
      "outputs": [
        {
          "output_type": "execute_result",
          "data": {
            "text/plain": [
              "tensor(82307.3125, grad_fn=<DivBackward0>)"
            ]
          },
          "metadata": {
            "tags": []
          },
          "execution_count": 217
        }
      ]
    },
    {
      "cell_type": "code",
      "metadata": {
        "id": "v39PC40FYo8h",
        "colab_type": "code",
        "colab": {
          "base_uri": "https://localhost:8080/",
          "height": 68
        },
        "outputId": "121e92bc-3a93-4def-a9aa-ce0c2d2e17bf"
      },
      "source": [
        "#3-compute gradient w.r.to weights and biases\n",
        "loss.backward()\n",
        "print(w.grad)\n",
        "print(b.grad)"
      ],
      "execution_count": 218,
      "outputs": [
        {
          "output_type": "stream",
          "text": [
            "tensor([[ -5428.0845,  -7747.2666,  -4355.7334],\n",
            "        [-32034.5645, -35632.6172, -21816.1172]])\n",
            "tensor([ -69.0017, -383.5448])\n"
          ],
          "name": "stdout"
        }
      ]
    },
    {
      "cell_type": "code",
      "metadata": {
        "id": "Hq2OB57LY2Ox",
        "colab_type": "code",
        "colab": {}
      },
      "source": [
        "#4-Adjust the weights\n",
        "with torch.no_grad():\n",
        "  w-=w.grad*1e-5\n",
        "  b-=b.grad*1e-5\n",
        "  w.grad.zero_()\n",
        "  b.grad.zero_()\n",
        "\n"
      ],
      "execution_count": 219,
      "outputs": []
    },
    {
      "cell_type": "code",
      "metadata": {
        "id": "CpJWimFyZXEA",
        "colab_type": "code",
        "colab": {
          "base_uri": "https://localhost:8080/",
          "height": 68
        },
        "outputId": "a6d50d1b-c3ef-482d-a9cc-b460ffcddcb1"
      },
      "source": [
        "print(w)\n",
        "print(b)"
      ],
      "execution_count": 220,
      "outputs": [
        {
          "output_type": "stream",
          "text": [
            "tensor([[ 0.8663, -0.8047,  0.3234],\n",
            "        [-0.5839, -1.3380, -1.0363]], requires_grad=True)\n",
            "tensor([-1.0484, -1.9441], requires_grad=True)\n"
          ],
          "name": "stdout"
        }
      ]
    },
    {
      "cell_type": "code",
      "metadata": {
        "id": "r2flU4bfZY_5",
        "colab_type": "code",
        "colab": {
          "base_uri": "https://localhost:8080/",
          "height": 34
        },
        "outputId": "01c80373-3b7c-4a76-9af9-e51b0a11f436"
      },
      "source": [
        "pred=model(input)\n",
        "loss=error(pred,output)\n",
        "print(loss)"
      ],
      "execution_count": 221,
      "outputs": [
        {
          "output_type": "stream",
          "text": [
            "tensor(56080.0938, grad_fn=<DivBackward0>)\n"
          ],
          "name": "stdout"
        }
      ]
    },
    {
      "cell_type": "code",
      "metadata": {
        "id": "K2HHy4hXapIs",
        "colab_type": "code",
        "colab": {}
      },
      "source": [
        "#As you can see above the loss has decreased by a huge number \n",
        "#we can perform the same task multiple times using for loop\n",
        "#usually we will perform this in the form of epochs in the realtime\n",
        "#Now lets traing the model using 100 epochs\n",
        "for i in range(100):\n",
        "  pred=model(input)\n",
        "  loss=error(pred,output)\n",
        "  loss.backward()\n",
        "  with torch.no_grad():\n",
        "      w-=w.grad*1e-5\n",
        "      b-=b.grad*1e-5\n",
        "      w.grad.zero_()\n",
        "      b.grad.zero_()\n",
        "  \n",
        "\n",
        "  \n",
        "\n"
      ],
      "execution_count": 222,
      "outputs": []
    },
    {
      "cell_type": "code",
      "metadata": {
        "id": "LHUog-hBbcyE",
        "colab_type": "code",
        "colab": {
          "base_uri": "https://localhost:8080/",
          "height": 34
        },
        "outputId": "10c9406b-c748-409a-aff1-df812be0e300"
      },
      "source": [
        "pred=model(input)\n",
        "loss=error(pred,output)\n",
        "print(loss)"
      ],
      "execution_count": 223,
      "outputs": [
        {
          "output_type": "stream",
          "text": [
            "tensor(566.2863, grad_fn=<DivBackward0>)\n"
          ],
          "name": "stdout"
        }
      ]
    },
    {
      "cell_type": "code",
      "metadata": {
        "id": "KkVQa9vMbtFK",
        "colab_type": "code",
        "colab": {
          "base_uri": "https://localhost:8080/",
          "height": 102
        },
        "outputId": "4add6b90-5fd0-4630-9935-7faf76c9ed97"
      },
      "source": [
        "pred"
      ],
      "execution_count": 224,
      "outputs": [
        {
          "output_type": "execute_result",
          "data": {
            "text/plain": [
              "tensor([[ 65.5829,  76.2026],\n",
              "        [ 88.8319,  99.2186],\n",
              "        [ 90.0896, 126.7791],\n",
              "        [ 71.1221,  72.5975],\n",
              "        [ 84.0369,  95.4676]], grad_fn=<AddBackward0>)"
            ]
          },
          "metadata": {
            "tags": []
          },
          "execution_count": 224
        }
      ]
    },
    {
      "cell_type": "code",
      "metadata": {
        "id": "ImbH6Cf0byyC",
        "colab_type": "code",
        "colab": {
          "base_uri": "https://localhost:8080/",
          "height": 102
        },
        "outputId": "5dcb506b-6971-4cf7-b4fd-c73b6e8a3ea0"
      },
      "source": [
        "#As you can see the actual and the pred values are not having much difference as earlier\n",
        "output"
      ],
      "execution_count": 225,
      "outputs": [
        {
          "output_type": "execute_result",
          "data": {
            "text/plain": [
              "tensor([[ 56.,  70.],\n",
              "        [ 81., 101.],\n",
              "        [119., 133.],\n",
              "        [ 22.,  37.],\n",
              "        [103., 119.]])"
            ]
          },
          "metadata": {
            "tags": []
          },
          "execution_count": 225
        }
      ]
    },
    {
      "cell_type": "code",
      "metadata": {
        "id": "qkyhSERCb0nx",
        "colab_type": "code",
        "colab": {}
      },
      "source": [
        "#Linear Regression using the pre-built functions of PYTORCH"
      ],
      "execution_count": 226,
      "outputs": []
    },
    {
      "cell_type": "code",
      "metadata": {
        "id": "dDH0lze1ymuI",
        "colab_type": "code",
        "colab": {}
      },
      "source": [
        "#the below package consists of utility classes  for building NN \n",
        "import torch.nn as nn"
      ],
      "execution_count": 227,
      "outputs": []
    },
    {
      "cell_type": "code",
      "metadata": {
        "id": "PQYtgIWezhBP",
        "colab_type": "code",
        "colab": {}
      },
      "source": [
        "inputs=np.array([[73,67,43],\n",
        "                 [91,88,64],\n",
        "                 [87,134,58],\n",
        "                 [102,43,37],\n",
        "                 [69,96,70],[37,67,43],[91,88,64],[41,88,64],[29,28,64],[31,88,84],[51,80,60],[77,48,74],[61,58,104],[75,88,64],[85,48,58]],dtype='float32')\n",
        "outputs=np.array([[56,70],\n",
        "                 [81,101],\n",
        "                 [119,133],\n",
        "                 [22,37],\n",
        "                 [103,119],[13,19],[61,109],[58,52],[75,51],[61,68],[78,53],[65,83],[76,90],[51,85],[81,75]],dtype='float32')"
      ],
      "execution_count": 228,
      "outputs": []
    },
    {
      "cell_type": "code",
      "metadata": {
        "id": "3vwBzNWf1aZP",
        "colab_type": "code",
        "colab": {
          "base_uri": "https://localhost:8080/",
          "height": 612
        },
        "outputId": "fcb35b50-1654-4f72-86f9-223749504e00"
      },
      "source": [
        "print(inputs)\n",
        "print(outputs)\n",
        "print(inputs.shape)\n",
        "print(outputs.shape)\n",
        "print(type(inputs))\n",
        "print(type(outputs))\n",
        "print(inputs.dtype)"
      ],
      "execution_count": 229,
      "outputs": [
        {
          "output_type": "stream",
          "text": [
            "[[ 73.  67.  43.]\n",
            " [ 91.  88.  64.]\n",
            " [ 87. 134.  58.]\n",
            " [102.  43.  37.]\n",
            " [ 69.  96.  70.]\n",
            " [ 37.  67.  43.]\n",
            " [ 91.  88.  64.]\n",
            " [ 41.  88.  64.]\n",
            " [ 29.  28.  64.]\n",
            " [ 31.  88.  84.]\n",
            " [ 51.  80.  60.]\n",
            " [ 77.  48.  74.]\n",
            " [ 61.  58. 104.]\n",
            " [ 75.  88.  64.]\n",
            " [ 85.  48.  58.]]\n",
            "[[ 56.  70.]\n",
            " [ 81. 101.]\n",
            " [119. 133.]\n",
            " [ 22.  37.]\n",
            " [103. 119.]\n",
            " [ 13.  19.]\n",
            " [ 61. 109.]\n",
            " [ 58.  52.]\n",
            " [ 75.  51.]\n",
            " [ 61.  68.]\n",
            " [ 78.  53.]\n",
            " [ 65.  83.]\n",
            " [ 76.  90.]\n",
            " [ 51.  85.]\n",
            " [ 81.  75.]]\n",
            "(15, 3)\n",
            "(15, 2)\n",
            "<class 'numpy.ndarray'>\n",
            "<class 'numpy.ndarray'>\n",
            "float32\n"
          ],
          "name": "stdout"
        }
      ]
    },
    {
      "cell_type": "code",
      "metadata": {
        "id": "twqntIWe1q4b",
        "colab_type": "code",
        "colab": {}
      },
      "source": [
        "input=torch.from_numpy(inputs)\n",
        "output=torch.from_numpy(outputs)"
      ],
      "execution_count": 230,
      "outputs": []
    },
    {
      "cell_type": "code",
      "metadata": {
        "id": "eQybCzNd2Kkd",
        "colab_type": "code",
        "colab": {
          "base_uri": "https://localhost:8080/",
          "height": 612
        },
        "outputId": "adc19b96-9a5b-4360-b568-3d75a2758494"
      },
      "source": [
        "print(input)\n",
        "print(output)\n",
        "print(input.shape)\n",
        "print(output.shape)\n",
        "print(type(input))\n",
        "print(type(output))\n",
        "print(input.dtype)"
      ],
      "execution_count": 231,
      "outputs": [
        {
          "output_type": "stream",
          "text": [
            "tensor([[ 73.,  67.,  43.],\n",
            "        [ 91.,  88.,  64.],\n",
            "        [ 87., 134.,  58.],\n",
            "        [102.,  43.,  37.],\n",
            "        [ 69.,  96.,  70.],\n",
            "        [ 37.,  67.,  43.],\n",
            "        [ 91.,  88.,  64.],\n",
            "        [ 41.,  88.,  64.],\n",
            "        [ 29.,  28.,  64.],\n",
            "        [ 31.,  88.,  84.],\n",
            "        [ 51.,  80.,  60.],\n",
            "        [ 77.,  48.,  74.],\n",
            "        [ 61.,  58., 104.],\n",
            "        [ 75.,  88.,  64.],\n",
            "        [ 85.,  48.,  58.]])\n",
            "tensor([[ 56.,  70.],\n",
            "        [ 81., 101.],\n",
            "        [119., 133.],\n",
            "        [ 22.,  37.],\n",
            "        [103., 119.],\n",
            "        [ 13.,  19.],\n",
            "        [ 61., 109.],\n",
            "        [ 58.,  52.],\n",
            "        [ 75.,  51.],\n",
            "        [ 61.,  68.],\n",
            "        [ 78.,  53.],\n",
            "        [ 65.,  83.],\n",
            "        [ 76.,  90.],\n",
            "        [ 51.,  85.],\n",
            "        [ 81.,  75.]])\n",
            "torch.Size([15, 3])\n",
            "torch.Size([15, 2])\n",
            "<class 'torch.Tensor'>\n",
            "<class 'torch.Tensor'>\n",
            "torch.float32\n"
          ],
          "name": "stdout"
        }
      ]
    },
    {
      "cell_type": "code",
      "metadata": {
        "id": "Qt34V7z-2b1k",
        "colab_type": "code",
        "colab": {}
      },
      "source": [
        "#creating a tensordataset which allows us to access rows from input and targets as tuples\n",
        "#This allows us to access small set of data using array indexing\n",
        "#It returns a tuple where the first element contains the inputs for the selected rows and the second element contains the target elements\n",
        "#WE will also create a dataloader which will divide the data into batches of predefined size while training\n",
        "from torch.utils.data import TensorDataset\n",
        "from torch.utils.data import DataLoader"
      ],
      "execution_count": 232,
      "outputs": []
    },
    {
      "cell_type": "code",
      "metadata": {
        "id": "S5pPlXWu4KVR",
        "colab_type": "code",
        "colab": {
          "base_uri": "https://localhost:8080/",
          "height": 136
        },
        "outputId": "228f497b-50b1-4f80-a3b5-6f2d24d1c8fd"
      },
      "source": [
        "#define dataset\n",
        "train=TensorDataset(input,output)\n",
        "train[0:4]"
      ],
      "execution_count": 233,
      "outputs": [
        {
          "output_type": "execute_result",
          "data": {
            "text/plain": [
              "(tensor([[ 73.,  67.,  43.],\n",
              "         [ 91.,  88.,  64.],\n",
              "         [ 87., 134.,  58.],\n",
              "         [102.,  43.,  37.]]), tensor([[ 56.,  70.],\n",
              "         [ 81., 101.],\n",
              "         [119., 133.],\n",
              "         [ 22.,  37.]]))"
            ]
          },
          "metadata": {
            "tags": []
          },
          "execution_count": 233
        }
      ]
    },
    {
      "cell_type": "code",
      "metadata": {
        "id": "PuTvc8Zz5OIK",
        "colab_type": "code",
        "colab": {}
      },
      "source": [
        "#define dataloader\n",
        "batch_size=5\n",
        "data=DataLoader(train,batch_size,shuffle=True)"
      ],
      "execution_count": 234,
      "outputs": []
    },
    {
      "cell_type": "code",
      "metadata": {
        "id": "f2Uy0fcT6Qgo",
        "colab_type": "code",
        "colab": {
          "base_uri": "https://localhost:8080/",
          "height": 527
        },
        "outputId": "418abe7a-fe1f-4e8e-e259-b773ef0c5331"
      },
      "source": [
        "for i,j in data:\n",
        "  print(i)\n",
        "  print(j)\n",
        " "
      ],
      "execution_count": 235,
      "outputs": [
        {
          "output_type": "stream",
          "text": [
            "tensor([[102.,  43.,  37.],\n",
            "        [ 29.,  28.,  64.],\n",
            "        [ 51.,  80.,  60.],\n",
            "        [ 91.,  88.,  64.],\n",
            "        [ 69.,  96.,  70.]])\n",
            "tensor([[ 22.,  37.],\n",
            "        [ 75.,  51.],\n",
            "        [ 78.,  53.],\n",
            "        [ 61., 109.],\n",
            "        [103., 119.]])\n",
            "tensor([[ 87., 134.,  58.],\n",
            "        [ 73.,  67.,  43.],\n",
            "        [ 37.,  67.,  43.],\n",
            "        [ 61.,  58., 104.],\n",
            "        [ 85.,  48.,  58.]])\n",
            "tensor([[119., 133.],\n",
            "        [ 56.,  70.],\n",
            "        [ 13.,  19.],\n",
            "        [ 76.,  90.],\n",
            "        [ 81.,  75.]])\n",
            "tensor([[31., 88., 84.],\n",
            "        [41., 88., 64.],\n",
            "        [77., 48., 74.],\n",
            "        [75., 88., 64.],\n",
            "        [91., 88., 64.]])\n",
            "tensor([[ 61.,  68.],\n",
            "        [ 58.,  52.],\n",
            "        [ 65.,  83.],\n",
            "        [ 51.,  85.],\n",
            "        [ 81., 101.]])\n"
          ],
          "name": "stdout"
        }
      ]
    },
    {
      "cell_type": "code",
      "metadata": {
        "id": "tCCTlwHI6RWY",
        "colab_type": "code",
        "colab": {
          "base_uri": "https://localhost:8080/",
          "height": 102
        },
        "outputId": "f5de287f-d2ce-487b-8e89-911713cf9462"
      },
      "source": [
        "#Defining a model\n",
        "#instead of assigning weights manually we will now use the inbuilt functions \n",
        "#we can define the model using nn.linear which does automatically\n",
        "model=nn.Linear(3,2)\n",
        "print(model.weight)\n",
        "print(model.bias)"
      ],
      "execution_count": 236,
      "outputs": [
        {
          "output_type": "stream",
          "text": [
            "Parameter containing:\n",
            "tensor([[ 0.3891,  0.0689,  0.0559],\n",
            "        [-0.1197,  0.2879, -0.5075]], requires_grad=True)\n",
            "Parameter containing:\n",
            "tensor([-0.1739, -0.1085], requires_grad=True)\n"
          ],
          "name": "stdout"
        }
      ]
    },
    {
      "cell_type": "code",
      "metadata": {
        "id": "ThEaeHSJ8yxE",
        "colab_type": "code",
        "colab": {
          "base_uri": "https://localhost:8080/",
          "height": 102
        },
        "outputId": "7b0dd344-a8d5-430e-fa1e-7a4b7e3a7001"
      },
      "source": [
        "list(model.parameters())"
      ],
      "execution_count": 237,
      "outputs": [
        {
          "output_type": "execute_result",
          "data": {
            "text/plain": [
              "[Parameter containing:\n",
              " tensor([[ 0.3891,  0.0689,  0.0559],\n",
              "         [-0.1197,  0.2879, -0.5075]], requires_grad=True),\n",
              " Parameter containing:\n",
              " tensor([-0.1739, -0.1085], requires_grad=True)]"
            ]
          },
          "metadata": {
            "tags": []
          },
          "execution_count": 237
        }
      ]
    },
    {
      "cell_type": "code",
      "metadata": {
        "id": "V0uCNp_e8-uD",
        "colab_type": "code",
        "colab": {
          "base_uri": "https://localhost:8080/",
          "height": 272
        },
        "outputId": "1c76f756-6b53-4cab-d035-e043cb8beb57"
      },
      "source": [
        "#we can use the above created model to predict the outputs\n",
        "pred=model(input)\n",
        "pred"
      ],
      "execution_count": 238,
      "outputs": [
        {
          "output_type": "execute_result",
          "data": {
            "text/plain": [
              "tensor([[ 35.2491, -11.3797],\n",
              "        [ 44.8734, -18.1462],\n",
              "        [ 46.1524,  -1.3781],\n",
              "        [ 44.5423, -18.7154],\n",
              "        [ 37.2008, -16.2549],\n",
              "        [ 21.2429,  -7.0709],\n",
              "        [ 44.8734, -18.1462],\n",
              "        [ 25.4203, -12.1617],\n",
              "        [ 16.6160, -28.0004],\n",
              "        [ 22.6475, -21.1156],\n",
              "        [ 28.5360, -13.6318],\n",
              "        [ 37.2284, -33.0625],\n",
              "        [ 33.3695, -43.4945],\n",
              "        [ 38.6484, -16.2312],\n",
              "        [ 39.4466, -25.8995]], grad_fn=<AddmmBackward>)"
            ]
          },
          "metadata": {
            "tags": []
          },
          "execution_count": 238
        }
      ]
    },
    {
      "cell_type": "code",
      "metadata": {
        "id": "GmUIYNPc9Kcr",
        "colab_type": "code",
        "colab": {}
      },
      "source": [
        "#From the above code we can see that once again the predicted outputs are quiet different from actual outputs\n",
        "#now we will define the inbuilt loss function to evaluate the model\n",
        "import torch.nn.functional as F"
      ],
      "execution_count": 239,
      "outputs": []
    },
    {
      "cell_type": "code",
      "metadata": {
        "id": "iMcPq8yK9zLF",
        "colab_type": "code",
        "colab": {
          "base_uri": "https://localhost:8080/",
          "height": 34
        },
        "outputId": "5f2fc744-1bda-4e3f-c391-2c44417edfe4"
      },
      "source": [
        "loss_fn=F.mse_loss\n",
        "loss=loss_fn(pred,output)\n",
        "loss"
      ],
      "execution_count": 240,
      "outputs": [
        {
          "output_type": "execute_result",
          "data": {
            "text/plain": [
              "tensor(5888.0869, grad_fn=<MseLossBackward>)"
            ]
          },
          "metadata": {
            "tags": []
          },
          "execution_count": 240
        }
      ]
    },
    {
      "cell_type": "code",
      "metadata": {
        "id": "hHlWgqRj-K7j",
        "colab_type": "code",
        "colab": {}
      },
      "source": [
        "#As we can see the loss is very high in order to reduce the loss we need to optimise using stocastic gradient descent(SGD)\n",
        "#It is called stochastic because samples are taken as batches instead of a single group\n",
        "#defining the optimizer\n",
        "optim=torch.optim.SGD(model.parameters(),lr=1e-4)"
      ],
      "execution_count": 241,
      "outputs": []
    },
    {
      "cell_type": "code",
      "metadata": {
        "id": "WBbS7Mg2_OKh",
        "colab_type": "code",
        "colab": {}
      },
      "source": [
        "#After creating the optimizer we need to train the model \n",
        "#For training the model we need to follow the exact same steps which we have followed earlier\n",
        "def fit(epoch,model,loss,opt,train):\n",
        "  for ep in range(epoch):\n",
        "    for x,y in train:\n",
        "      #model prediction\n",
        "      pred=model(x)\n",
        "      #calculate loss\n",
        "      loss=loss_fn(pred,y)\n",
        "      #calculate gradients\n",
        "      loss.backward()\n",
        "      #update the parameters using gradients\n",
        "      opt.step()\n",
        "      #reset the gradients to zero\n",
        "      opt.zero_grad()\n",
        "    if (ep+1)%10==0:\n",
        "      print(ep+1,loss)  \n",
        "      "
      ],
      "execution_count": 242,
      "outputs": []
    },
    {
      "cell_type": "code",
      "metadata": {
        "id": "EvTA1H4fAzqX",
        "colab_type": "code",
        "colab": {
          "base_uri": "https://localhost:8080/",
          "height": 187
        },
        "outputId": "f5c8760f-06c8-4419-d3a4-645368acfb52"
      },
      "source": [
        "fit(100,model,loss_fn,optim,train)"
      ],
      "execution_count": 243,
      "outputs": [
        {
          "output_type": "stream",
          "text": [
            "10 tensor(1133.5433, grad_fn=<MseLossBackward>)\n",
            "20 tensor(1127.1605, grad_fn=<MseLossBackward>)\n",
            "30 tensor(1127.1862, grad_fn=<MseLossBackward>)\n",
            "40 tensor(1127.2957, grad_fn=<MseLossBackward>)\n",
            "50 tensor(1127.4073, grad_fn=<MseLossBackward>)\n",
            "60 tensor(1127.5188, grad_fn=<MseLossBackward>)\n",
            "70 tensor(1127.6315, grad_fn=<MseLossBackward>)\n",
            "80 tensor(1127.7429, grad_fn=<MseLossBackward>)\n",
            "90 tensor(1127.8557, grad_fn=<MseLossBackward>)\n",
            "100 tensor(1127.9683, grad_fn=<MseLossBackward>)\n"
          ],
          "name": "stdout"
        }
      ]
    },
    {
      "cell_type": "code",
      "metadata": {
        "id": "yH3GokzuA7yl",
        "colab_type": "code",
        "colab": {
          "base_uri": "https://localhost:8080/",
          "height": 272
        },
        "outputId": "70958311-fa48-44da-dea7-faaac14b184a"
      },
      "source": [
        "pred"
      ],
      "execution_count": 244,
      "outputs": [
        {
          "output_type": "execute_result",
          "data": {
            "text/plain": [
              "tensor([[ 35.2491, -11.3797],\n",
              "        [ 44.8734, -18.1462],\n",
              "        [ 46.1524,  -1.3781],\n",
              "        [ 44.5423, -18.7154],\n",
              "        [ 37.2008, -16.2549],\n",
              "        [ 21.2429,  -7.0709],\n",
              "        [ 44.8734, -18.1462],\n",
              "        [ 25.4203, -12.1617],\n",
              "        [ 16.6160, -28.0004],\n",
              "        [ 22.6475, -21.1156],\n",
              "        [ 28.5360, -13.6318],\n",
              "        [ 37.2284, -33.0625],\n",
              "        [ 33.3695, -43.4945],\n",
              "        [ 38.6484, -16.2312],\n",
              "        [ 39.4466, -25.8995]], grad_fn=<AddmmBackward>)"
            ]
          },
          "metadata": {
            "tags": []
          },
          "execution_count": 244
        }
      ]
    },
    {
      "cell_type": "code",
      "metadata": {
        "id": "vkCaZ_h7C_Iv",
        "colab_type": "code",
        "colab": {
          "base_uri": "https://localhost:8080/",
          "height": 272
        },
        "outputId": "4ee53b44-30de-4892-e048-32160337927f"
      },
      "source": [
        "output"
      ],
      "execution_count": 245,
      "outputs": [
        {
          "output_type": "execute_result",
          "data": {
            "text/plain": [
              "tensor([[ 56.,  70.],\n",
              "        [ 81., 101.],\n",
              "        [119., 133.],\n",
              "        [ 22.,  37.],\n",
              "        [103., 119.],\n",
              "        [ 13.,  19.],\n",
              "        [ 61., 109.],\n",
              "        [ 58.,  52.],\n",
              "        [ 75.,  51.],\n",
              "        [ 61.,  68.],\n",
              "        [ 78.,  53.],\n",
              "        [ 65.,  83.],\n",
              "        [ 76.,  90.],\n",
              "        [ 51.,  85.],\n",
              "        [ 81.,  75.]])"
            ]
          },
          "metadata": {
            "tags": []
          },
          "execution_count": 245
        }
      ]
    },
    {
      "cell_type": "code",
      "metadata": {
        "id": "q_r9y2IYDEEd",
        "colab_type": "code",
        "colab": {}
      },
      "source": [
        ""
      ],
      "execution_count": 245,
      "outputs": []
    }
  ]
}