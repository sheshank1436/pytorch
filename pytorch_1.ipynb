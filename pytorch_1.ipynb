{
  "nbformat": 4,
  "nbformat_minor": 0,
  "metadata": {
    "colab": {
      "name": "pytorch-1.ipynb",
      "provenance": [],
      "authorship_tag": "ABX9TyPRg5oHRhrFWG/HmXX4E2uV",
      "include_colab_link": true
    },
    "kernelspec": {
      "name": "python3",
      "display_name": "Python 3"
    }
  },
  "cells": [
    {
      "cell_type": "markdown",
      "metadata": {
        "id": "view-in-github",
        "colab_type": "text"
      },
      "source": [
        "<a href=\"https://colab.research.google.com/github/sheshank1436/pytorch/blob/master/pytorch_1.ipynb\" target=\"_parent\"><img src=\"https://colab.research.google.com/assets/colab-badge.svg\" alt=\"Open In Colab\"/></a>"
      ]
    },
    {
      "cell_type": "markdown",
      "metadata": {
        "id": "QindBb6ZE8rT"
      },
      "source": [
        " This is the first Part of pytorch training from basics"
      ]
    },
    {
      "cell_type": "code",
      "metadata": {
        "id": "8BACg39nXcXI"
      },
      "source": [
        "#import pytorch\n",
        "import torch\n"
      ],
      "execution_count": 24,
      "outputs": []
    },
    {
      "cell_type": "code",
      "metadata": {
        "id": "kSIOUPlnXksC",
        "outputId": "4bd07c98-3466-41d2-85e3-b04fe544864a",
        "colab": {
          "base_uri": "https://localhost:8080/",
          "height": 70
        }
      },
      "source": [
        "#scalar\n",
        "t1=torch.tensor(1)\n",
        "print(t1.dtype)\n",
        "print(t1)\n",
        "t1=torch.tensor(2,dtype=float)\n",
        "print(t1)"
      ],
      "execution_count": 25,
      "outputs": [
        {
          "output_type": "stream",
          "text": [
            "torch.int64\n",
            "tensor(1)\n",
            "tensor(2., dtype=torch.float64)\n"
          ],
          "name": "stdout"
        }
      ]
    },
    {
      "cell_type": "code",
      "metadata": {
        "id": "_EwDQ1VKXkun",
        "outputId": "de8eb03f-6eaf-423d-ce0b-fb4fe69680dc",
        "colab": {
          "base_uri": "https://localhost:8080/",
          "height": 52
        }
      },
      "source": [
        "#vector\n",
        "t2=torch.tensor([1,3,2,4])\n",
        "print(t2.dtype)\n",
        "print(t2)"
      ],
      "execution_count": 26,
      "outputs": [
        {
          "output_type": "stream",
          "text": [
            "torch.int64\n",
            "tensor([1, 3, 2, 4])\n"
          ],
          "name": "stdout"
        }
      ]
    },
    {
      "cell_type": "code",
      "metadata": {
        "id": "zEqasPEyXkxf",
        "outputId": "ba39438e-ec89-4cb3-bc4d-3e6f931b8014",
        "colab": {
          "base_uri": "https://localhost:8080/",
          "height": 105
        }
      },
      "source": [
        "#2dim array\n",
        "t3=torch.tensor([[1,3],[3,4],[1,4]])\n",
        "print(t3.dtype)\n",
        "print(t3)\n",
        "print(t3.shape)"
      ],
      "execution_count": 27,
      "outputs": [
        {
          "output_type": "stream",
          "text": [
            "torch.int64\n",
            "tensor([[1, 3],\n",
            "        [3, 4],\n",
            "        [1, 4]])\n",
            "torch.Size([3, 2])\n"
          ],
          "name": "stdout"
        }
      ]
    },
    {
      "cell_type": "code",
      "metadata": {
        "id": "1Pr0kfc3Xk0A",
        "outputId": "12bdec04-8625-483e-a8c4-75b4891b2e84",
        "colab": {
          "base_uri": "https://localhost:8080/",
          "height": 105
        }
      },
      "source": [
        "#3dim array(tensors)\n",
        "t4=torch.tensor([[1,3,3],[3,4,5],[1,4,6]])\n",
        "print(t4.dtype)\n",
        "print(t4)\n",
        "print('shape of tensor:',t4.shape)"
      ],
      "execution_count": 28,
      "outputs": [
        {
          "output_type": "stream",
          "text": [
            "torch.int64\n",
            "tensor([[1, 3, 3],\n",
            "        [3, 4, 5],\n",
            "        [1, 4, 6]])\n",
            "shape of tensor: torch.Size([3, 3])\n"
          ],
          "name": "stdout"
        }
      ]
    },
    {
      "cell_type": "code",
      "metadata": {
        "id": "P3iaLVMdbpsa",
        "outputId": "ebf3754b-daed-4a74-9023-c8445e5f9089",
        "colab": {
          "base_uri": "https://localhost:8080/",
          "height": 34
        }
      },
      "source": [
        "#addition\n",
        "x=torch.tensor([1.,3.,2.],requires_grad=True)\n",
        "m=torch.tensor([2,2,2])\n",
        "c=torch.tensor([1,1,1])\n",
        "y=m*x+c\n",
        "print(y)"
      ],
      "execution_count": 29,
      "outputs": [
        {
          "output_type": "stream",
          "text": [
            "tensor([3., 7., 5.], grad_fn=<AddBackward0>)\n"
          ],
          "name": "stdout"
        }
      ]
    },
    {
      "cell_type": "code",
      "metadata": {
        "id": "u6K0igJjfJNO",
        "outputId": "d7525bb4-0378-494f-c737-8bffd587616b",
        "colab": {
          "base_uri": "https://localhost:8080/",
          "height": 34
        }
      },
      "source": [
        "a=torch.tensor(1.,requires_grad=True)\n",
        "b=torch.tensor(11.,requires_grad=True)\n",
        "c=torch.tensor(5.)\n",
        "g=a*b+c\n",
        "print(g)"
      ],
      "execution_count": 30,
      "outputs": [
        {
          "output_type": "stream",
          "text": [
            "tensor(16., grad_fn=<AddBackward0>)\n"
          ],
          "name": "stdout"
        }
      ]
    },
    {
      "cell_type": "code",
      "metadata": {
        "id": "-2IY3aP6gti9"
      },
      "source": [
        "g.backward()"
      ],
      "execution_count": 31,
      "outputs": []
    },
    {
      "cell_type": "code",
      "metadata": {
        "id": "jcDbg4mofxtc",
        "outputId": "4ee0e1fd-bab2-4575-f98b-4123f72bedc3",
        "colab": {
          "base_uri": "https://localhost:8080/",
          "height": 34
        }
      },
      "source": [
        "print('dg/da',a.grad)"
      ],
      "execution_count": 32,
      "outputs": [
        {
          "output_type": "stream",
          "text": [
            "dg/da tensor(11.)\n"
          ],
          "name": "stdout"
        }
      ]
    },
    {
      "cell_type": "code",
      "metadata": {
        "id": "ciFJTYmFggI1",
        "outputId": "c752cfcf-94e1-4336-ec5a-d834c94a5115",
        "colab": {
          "base_uri": "https://localhost:8080/",
          "height": 34
        }
      },
      "source": [
        "print('dg/db',b.grad)"
      ],
      "execution_count": 33,
      "outputs": [
        {
          "output_type": "stream",
          "text": [
            "dg/db tensor(1.)\n"
          ],
          "name": "stdout"
        }
      ]
    },
    {
      "cell_type": "code",
      "metadata": {
        "id": "KdHo3Va5g174"
      },
      "source": [
        "import numpy as np"
      ],
      "execution_count": 34,
      "outputs": []
    },
    {
      "cell_type": "code",
      "metadata": {
        "id": "ctlyeNznhwh0",
        "outputId": "f43705bf-2491-4f7b-def8-55123b88bc2a",
        "colab": {
          "base_uri": "https://localhost:8080/",
          "height": 70
        }
      },
      "source": [
        "a=np.array([[1,2],[1,3]])\n",
        "print(a)\n",
        "print(a.dtype)"
      ],
      "execution_count": 35,
      "outputs": [
        {
          "output_type": "stream",
          "text": [
            "[[1 2]\n",
            " [1 3]]\n",
            "int64\n"
          ],
          "name": "stdout"
        }
      ]
    },
    {
      "cell_type": "code",
      "metadata": {
        "id": "jtt0NdM_h4Ws",
        "outputId": "5a87546f-57fb-46e9-f14b-420ccad99508",
        "colab": {
          "base_uri": "https://localhost:8080/",
          "height": 87
        }
      },
      "source": [
        "#CONVERSION OF NUMPY ARRAYS TO TENSORS\n",
        "b=torch.from_numpy(a)\n",
        "print(b)\n",
        "print(b.dtype)\n",
        "print(type(b))"
      ],
      "execution_count": 36,
      "outputs": [
        {
          "output_type": "stream",
          "text": [
            "tensor([[1, 2],\n",
            "        [1, 3]])\n",
            "torch.int64\n",
            "<class 'torch.Tensor'>\n"
          ],
          "name": "stdout"
        }
      ]
    },
    {
      "cell_type": "code",
      "metadata": {
        "id": "mKVPtfxDifsU",
        "outputId": "64c55b13-dc8b-465d-95ac-c7f2067d79e8",
        "colab": {
          "base_uri": "https://localhost:8080/",
          "height": 70
        }
      },
      "source": [
        "#conversion of tensors back to numpy  array\n",
        "c=b.numpy()\n",
        "print(type(c))\n",
        "print(c)"
      ],
      "execution_count": 37,
      "outputs": [
        {
          "output_type": "stream",
          "text": [
            "<class 'numpy.ndarray'>\n",
            "[[1 2]\n",
            " [1 3]]\n"
          ],
          "name": "stdout"
        }
      ]
    },
    {
      "cell_type": "code",
      "metadata": {
        "id": "Q28xE2ZTjQJW"
      },
      "source": [
        "#regression with tensors without using any inbuilt functions\n",
        "inputs=np.array([[73,67,43],\n",
        "                 [91,88,64],\n",
        "                 [87,134,58],\n",
        "                 [102,43,37],\n",
        "                 [69,96,70]],dtype='float32')\n",
        "outputs=np.array([[56,70],\n",
        "                 [81,101],\n",
        "                 [119,133],\n",
        "                 [22,37],\n",
        "                 [103,119]],dtype='float32')"
      ],
      "execution_count": 38,
      "outputs": []
    },
    {
      "cell_type": "code",
      "metadata": {
        "id": "CKPT2dW1Vw_C",
        "outputId": "583da45b-f372-4f22-8f1b-45f60f103a38",
        "colab": {
          "base_uri": "https://localhost:8080/",
          "height": 34
        }
      },
      "source": [
        "type(inputs)"
      ],
      "execution_count": 39,
      "outputs": [
        {
          "output_type": "execute_result",
          "data": {
            "text/plain": [
              "numpy.ndarray"
            ]
          },
          "metadata": {
            "tags": []
          },
          "execution_count": 39
        }
      ]
    },
    {
      "cell_type": "code",
      "metadata": {
        "id": "FbnDn-BVkA_d"
      },
      "source": [
        "input=torch.from_numpy(inputs)\n",
        "output=torch.from_numpy(outputs)\n"
      ],
      "execution_count": 40,
      "outputs": []
    },
    {
      "cell_type": "code",
      "metadata": {
        "id": "YfvnNCm99QIK",
        "outputId": "44749a55-e26c-49ff-8418-3f06e78a1cdf",
        "colab": {
          "base_uri": "https://localhost:8080/",
          "height": 105
        }
      },
      "source": [
        "input"
      ],
      "execution_count": 41,
      "outputs": [
        {
          "output_type": "execute_result",
          "data": {
            "text/plain": [
              "tensor([[ 73.,  67.,  43.],\n",
              "        [ 91.,  88.,  64.],\n",
              "        [ 87., 134.,  58.],\n",
              "        [102.,  43.,  37.],\n",
              "        [ 69.,  96.,  70.]])"
            ]
          },
          "metadata": {
            "tags": []
          },
          "execution_count": 41
        }
      ]
    },
    {
      "cell_type": "code",
      "metadata": {
        "id": "uyGG36AI9vFp",
        "outputId": "0525cba1-dbe0-4770-8d22-2c2ce60d222c",
        "colab": {
          "base_uri": "https://localhost:8080/",
          "height": 105
        }
      },
      "source": [
        "output"
      ],
      "execution_count": 42,
      "outputs": [
        {
          "output_type": "execute_result",
          "data": {
            "text/plain": [
              "tensor([[ 56.,  70.],\n",
              "        [ 81., 101.],\n",
              "        [119., 133.],\n",
              "        [ 22.,  37.],\n",
              "        [103., 119.]])"
            ]
          },
          "metadata": {
            "tags": []
          },
          "execution_count": 42
        }
      ]
    },
    {
      "cell_type": "markdown",
      "metadata": {
        "id": "KK9L_vOdFh91"
      },
      "source": [
        "here for weights column we took the shape as (2,3 ) which we will transpose to make it (3,2) in order to multiply with 3 input cols of input\n",
        "we took 3 because we have 3 input cols and 2 because we have two ouputs for one input row\n",
        "WE HAVE used requires_grad=True here because we provide it only to the variables which will change\n",
        "like in regression we wont change the inputs but instead we change the value of weights and biases  to see which weights provides us the least loss values"
      ]
    },
    {
      "cell_type": "code",
      "metadata": {
        "id": "Nmpe_DBs9waK",
        "outputId": "b312085a-fd64-4b83-ad9f-c7d5992a5478",
        "colab": {
          "base_uri": "https://localhost:8080/",
          "height": 52
        }
      },
      "source": [
        "\n",
        "w=torch.randn(2,3,requires_grad=True)\n",
        "b=torch.randn(2,requires_grad=True)\n",
        "print(w,b)\n"
      ],
      "execution_count": 43,
      "outputs": [
        {
          "output_type": "stream",
          "text": [
            "tensor([[ 0.5977, -0.0045,  0.1303],\n",
            "        [-1.7474, -0.6449,  1.3878]], requires_grad=True) tensor([ 1.3012, -0.6571], requires_grad=True)\n"
          ],
          "name": "stdout"
        }
      ]
    },
    {
      "cell_type": "code",
      "metadata": {
        "id": "tt7a_PRS-IwC",
        "outputId": "aa4a0b01-3d8c-4fe9-c622-277b1d787074",
        "colab": {
          "base_uri": "https://localhost:8080/",
          "height": 102
        }
      },
      "source": [
        "yp=input@w.t()+b\n",
        "yp"
      ],
      "execution_count": null,
      "outputs": [
        {
          "output_type": "execute_result",
          "data": {
            "text/plain": [
              "tensor([[  11.1586, -235.4209],\n",
              "        [  13.1270, -313.6221],\n",
              "        [ -32.3780, -380.4171],\n",
              "        [  54.1985, -213.4543],\n",
              "        [ -10.1148, -314.8095]], grad_fn=<AddBackward0>)"
            ]
          },
          "metadata": {
            "tags": []
          },
          "execution_count": 205
        }
      ]
    },
    {
      "cell_type": "markdown",
      "metadata": {
        "id": "HyzORLeUmkXe"
      },
      "source": [
        "you will see below tha addition of  tensors is different from traditional matrix addition.\n",
        "in matrix if you use two matrices of different dimension it does not accept.\n",
        "but in tensors it does accept if you try to add [5,2] matrix with [1,2]\n",
        "what it does is the same [1,2]matrix becomes [5,2] with same values.\n"
      ]
    },
    {
      "cell_type": "code",
      "metadata": {
        "id": "wXaEAbhWhb86",
        "outputId": "5d7b7a95-5bae-4245-8750-fa93489e017e",
        "colab": {
          "base_uri": "https://localhost:8080/",
          "height": 105
        }
      },
      "source": [
        "\n",
        "a=torch.randn(5,2,requires_grad=True)\n",
        "\n",
        "b=torch.randn(2,requires_grad=True)\n",
        "print(a)"
      ],
      "execution_count": 49,
      "outputs": [
        {
          "output_type": "stream",
          "text": [
            "tensor([[-0.2021,  1.0551],\n",
            "        [-1.1494,  0.2417],\n",
            "        [-1.2496,  0.3870],\n",
            "        [-0.4944,  0.2600],\n",
            "        [-0.1855,  0.6887]], requires_grad=True)\n"
          ],
          "name": "stdout"
        }
      ]
    },
    {
      "cell_type": "code",
      "metadata": {
        "id": "kWokZb_olOxf",
        "outputId": "2c84ba34-8fff-4a48-a0e8-e3a3c2d28d91",
        "colab": {
          "base_uri": "https://localhost:8080/",
          "height": 34
        }
      },
      "source": [
        "b"
      ],
      "execution_count": 50,
      "outputs": [
        {
          "output_type": "execute_result",
          "data": {
            "text/plain": [
              "tensor([0.6211, 0.7784], requires_grad=True)"
            ]
          },
          "metadata": {
            "tags": []
          },
          "execution_count": 50
        }
      ]
    },
    {
      "cell_type": "code",
      "metadata": {
        "id": "rkZNhmN9k-3D",
        "outputId": "e1304727-136d-4599-bede-28dcae0227d7",
        "colab": {
          "base_uri": "https://localhost:8080/",
          "height": 105
        }
      },
      "source": [
        "a+b"
      ],
      "execution_count": 51,
      "outputs": [
        {
          "output_type": "execute_result",
          "data": {
            "text/plain": [
              "tensor([[ 0.4191,  1.8335],\n",
              "        [-0.5282,  1.0201],\n",
              "        [-0.6285,  1.1654],\n",
              "        [ 0.1267,  1.0384],\n",
              "        [ 0.4356,  1.4671]], grad_fn=<AddBackward0>)"
            ]
          },
          "metadata": {
            "tags": []
          },
          "execution_count": 51
        }
      ]
    },
    {
      "cell_type": "code",
      "metadata": {
        "id": "xuRo2JSF-gjS"
      },
      "source": [
        "def model(x):\n",
        "  return input@w.t()+b"
      ],
      "execution_count": 52,
      "outputs": []
    },
    {
      "cell_type": "code",
      "metadata": {
        "id": "jo-WPnqC-hlq",
        "outputId": "35249ed8-c0c7-499d-bbb6-190a57078b1a",
        "colab": {
          "base_uri": "https://localhost:8080/",
          "height": 105
        }
      },
      "source": [
        "pred=model(input)\n",
        "pred"
      ],
      "execution_count": 53,
      "outputs": [
        {
          "output_type": "execute_result",
          "data": {
            "text/plain": [
              "tensor([[  49.5510, -110.3161],\n",
              "        [  62.9503, -126.1685],\n",
              "        [  59.5713, -157.1709],\n",
              "        [  66.2090, -153.8414],\n",
              "        [  50.5477,  -84.5570]], grad_fn=<AddBackward0>)"
            ]
          },
          "metadata": {
            "tags": []
          },
          "execution_count": 53
        }
      ]
    },
    {
      "cell_type": "code",
      "metadata": {
        "id": "L_P6AhIpFUM5",
        "outputId": "b4e4341a-88ad-4620-f4ec-29c3f024f5dd",
        "colab": {
          "base_uri": "https://localhost:8080/",
          "height": 105
        }
      },
      "source": [
        "print(output)"
      ],
      "execution_count": 54,
      "outputs": [
        {
          "output_type": "stream",
          "text": [
            "tensor([[ 56.,  70.],\n",
            "        [ 81., 101.],\n",
            "        [119., 133.],\n",
            "        [ 22.,  37.],\n",
            "        [103., 119.]])\n"
          ],
          "name": "stdout"
        }
      ]
    },
    {
      "cell_type": "code",
      "metadata": {
        "id": "3VjLTp35FhJ4"
      },
      "source": [
        "#In the above we can see that there is a huge difference between the actual and the predicted values\n",
        "#we need to evaluate our model using a loss function\n",
        "#for calculating the loss we need to first calculate the difference between actual and the predicted values\n",
        "#square the loss in order to remove the negative values\n",
        "#THen calculate the sum of the matrix\n",
        "#then calculate the average of the resultant matrix by divding with numel()\n",
        "#this process is know as Mean Square Error(MSE)\n",
        "\n",
        "def error(pred,output):\n",
        "  loss=pred-output\n",
        "  return torch.sum(loss*loss)/loss.numel()\n",
        "\n",
        "\n"
      ],
      "execution_count": 55,
      "outputs": []
    },
    {
      "cell_type": "code",
      "metadata": {
        "id": "6LFjkmlBMM0w",
        "outputId": "c706402f-e6bb-48dd-dee7-ab3e5d1cf500",
        "colab": {
          "base_uri": "https://localhost:8080/",
          "height": 34
        }
      },
      "source": [
        "loss=error(pred,output)  \n",
        "print(loss)"
      ],
      "execution_count": 56,
      "outputs": [
        {
          "output_type": "stream",
          "text": [
            "tensor(25477.9277, grad_fn=<DivBackward0>)\n"
          ],
          "name": "stdout"
        }
      ]
    },
    {
      "cell_type": "markdown",
      "metadata": {
        "id": "dFtSaiytowWf"
      },
      "source": [
        "As you can see loss is very high for our model the higher the loss the more bad is our model.now we need to improve our model,\n",
        "for that we have a technique called Gradient Descent.\n",
        "In pytorch we can calculate the loss automatically using gradient or derivates of the loss w.r.to the weights and biases because they have requires_grad=True.\n",
        "loss.backward() computes dloss/dx for every parameter x which has requires_grad=True. These are accumulated into x.grad for every parameter x.everytime you call .backward() it keeps adding grad values to existing grad.\n",
        "- Example:x.grad += dloss/dx"
      ]
    },
    {
      "cell_type": "markdown",
      "metadata": {
        "id": "X2K73Xqrp-ed"
      },
      "source": [
        "optimizer.step updates the value of x using the gradient x.grad. \n",
        "\n",
        "\n",
        "For example, the SGD optimizer performs:\n",
        "- Example:x += -lr * x.grad\n",
        "optimizer.zero_grad() clears x.grad for every parameter x in the optimizer. It’s important to call this before loss.backward(), otherwise you’ll accumulate the gradients from multiple passes.\n",
        "we need to use zer_grad() otherwise the new grad values will get added to the existing grad values and this function helps grad values zero\n",
        "If you have multiple losses (loss1, loss2) you can sum them and then call backwards once"
      ]
    },
    {
      "cell_type": "code",
      "metadata": {
        "id": "XQWhcul6F3lQ"
      },
      "source": [
        "\n",
        "\n",
        "loss.backward()"
      ],
      "execution_count": 57,
      "outputs": []
    },
    {
      "cell_type": "code",
      "metadata": {
        "id": "OpLGCV84M7VV",
        "outputId": "ee518e13-2845-49b1-9bb3-e44342d7d855",
        "colab": {
          "base_uri": "https://localhost:8080/",
          "height": 87
        }
      },
      "source": [
        "#Here w is the weight matrix which we initialised earlier\n",
        "#here w.grad=dloss/dw\n",
        "print(w)\n",
        "print(w.grad)"
      ],
      "execution_count": 58,
      "outputs": [
        {
          "output_type": "stream",
          "text": [
            "tensor([[ 0.5977, -0.0045,  0.1303],\n",
            "        [-1.7474, -0.6449,  1.3878]], requires_grad=True)\n",
            "tensor([[ -1278.6971,  -2623.6665,  -1383.0555],\n",
            "        [-18518.3086, -19740.5137, -12086.4834]])\n"
          ],
          "name": "stdout"
        }
      ]
    },
    {
      "cell_type": "code",
      "metadata": {
        "id": "mcrYRmvKM_E8",
        "outputId": "a3962a4c-24ae-405e-f7ab-783da01293b7",
        "colab": {
          "base_uri": "https://localhost:8080/",
          "height": 70
        }
      },
      "source": [
        "w.grad.zero_()\n",
        "b.grad.zero_()\n",
        "print(w.grad)\n",
        "print(b.grad)"
      ],
      "execution_count": 59,
      "outputs": [
        {
          "output_type": "stream",
          "text": [
            "tensor([[0., 0., 0.],\n",
            "        [0., 0., 0.]])\n",
            "tensor([0., 0.])\n"
          ],
          "name": "stdout"
        }
      ]
    },
    {
      "cell_type": "code",
      "metadata": {
        "id": "a2l1ZX-PT2jE",
        "outputId": "9620e10f-16f3-40d5-d99c-15adb1ba4ab6",
        "colab": {
          "base_uri": "https://localhost:8080/",
          "height": 70
        }
      },
      "source": [
        "w,b"
      ],
      "execution_count": 61,
      "outputs": [
        {
          "output_type": "execute_result",
          "data": {
            "text/plain": [
              "(tensor([[ 0.5977, -0.0045,  0.1303],\n",
              "         [-1.7474, -0.6449,  1.3878]], requires_grad=True),\n",
              " tensor([0.6211, 0.7784], requires_grad=True))"
            ]
          },
          "metadata": {
            "tags": []
          },
          "execution_count": 61
        }
      ]
    },
    {
      "cell_type": "markdown",
      "metadata": {
        "id": "PFIU3-RnsCR9"
      },
      "source": [
        "# For performing the Gradient descent we have a 5 step process\n",
        "1-Generate predictions\n",
        "\n",
        "\n",
        "2-Calculate the Loss\n",
        "\n",
        "\n",
        "3-compute gradient w.r.to weights and biases\n",
        "\n",
        "\n",
        "4-Adjust the weights by subracting the small quantity proportional to the gradients(we subtract the grad from weights by multiplying the grad with some value in order to make the grad value very small)\n",
        "\n",
        "\n",
        "5-Reset the gradients to zero"
      ]
    },
    {
      "cell_type": "code",
      "metadata": {
        "id": "oCaiq9bLXqXM",
        "outputId": "b16c8596-254a-43ef-c8cb-020733f92955",
        "colab": {
          "base_uri": "https://localhost:8080/",
          "height": 105
        }
      },
      "source": [
        "#Generate Predictions\n",
        "pred=model(input)\n",
        "pred\n"
      ],
      "execution_count": 62,
      "outputs": [
        {
          "output_type": "execute_result",
          "data": {
            "text/plain": [
              "tensor([[  49.5510, -110.3161],\n",
              "        [  62.9503, -126.1685],\n",
              "        [  59.5713, -157.1709],\n",
              "        [  66.2090, -153.8414],\n",
              "        [  50.5477,  -84.5570]], grad_fn=<AddBackward0>)"
            ]
          },
          "metadata": {
            "tags": []
          },
          "execution_count": 62
        }
      ]
    },
    {
      "cell_type": "code",
      "metadata": {
        "id": "VW2uhg-NYb0a",
        "outputId": "c8a3724d-9a27-4290-a169-f42e50cf63e1",
        "colab": {
          "base_uri": "https://localhost:8080/",
          "height": 34
        }
      },
      "source": [
        "#2-Calculate the Loss\n",
        "loss=error(pred,output)\n",
        "loss"
      ],
      "execution_count": 63,
      "outputs": [
        {
          "output_type": "execute_result",
          "data": {
            "text/plain": [
              "tensor(25477.9277, grad_fn=<DivBackward0>)"
            ]
          },
          "metadata": {
            "tags": []
          },
          "execution_count": 63
        }
      ]
    },
    {
      "cell_type": "code",
      "metadata": {
        "id": "v39PC40FYo8h",
        "outputId": "0d4f2ac8-cee2-4877-8048-5bae6ecb887d",
        "colab": {
          "base_uri": "https://localhost:8080/",
          "height": 70
        }
      },
      "source": [
        "#3-compute gradient w.r.to weights and biases\n",
        "loss.backward()\n",
        "print(w.grad)\n",
        "print(b.grad)"
      ],
      "execution_count": 64,
      "outputs": [
        {
          "output_type": "stream",
          "text": [
            "tensor([[ -1278.6971,  -2623.6665,  -1383.0555],\n",
            "        [-18518.3086, -19740.5137, -12086.4834]])\n",
            "tensor([ -18.4341, -218.4108])\n"
          ],
          "name": "stdout"
        }
      ]
    },
    {
      "cell_type": "code",
      "metadata": {
        "id": "Hq2OB57LY2Ox"
      },
      "source": [
        "#4-Adjust the weights\n",
        "with torch.no_grad():\n",
        "  w-=w.grad*1e-5\n",
        "  b-=b.grad*1e-5\n",
        "  w.grad.zero_()\n",
        "  b.grad.zero_()\n",
        "\n"
      ],
      "execution_count": 65,
      "outputs": []
    },
    {
      "cell_type": "code",
      "metadata": {
        "id": "CpJWimFyZXEA",
        "outputId": "615dbb97-144d-4314-8fd3-5701ecb124a1",
        "colab": {
          "base_uri": "https://localhost:8080/",
          "height": 70
        }
      },
      "source": [
        "print(w)\n",
        "print(b)"
      ],
      "execution_count": 66,
      "outputs": [
        {
          "output_type": "stream",
          "text": [
            "tensor([[ 0.6104,  0.0217,  0.1441],\n",
            "        [-1.5623, -0.4475,  1.5087]], requires_grad=True)\n",
            "tensor([0.6213, 0.7806], requires_grad=True)\n"
          ],
          "name": "stdout"
        }
      ]
    },
    {
      "cell_type": "code",
      "metadata": {
        "id": "r2flU4bfZY_5",
        "outputId": "03994670-9528-474c-ef77-280d35d78b0d",
        "colab": {
          "base_uri": "https://localhost:8080/",
          "height": 34
        }
      },
      "source": [
        "pred=model(input)\n",
        "loss=error(pred,output)\n",
        "print(loss)"
      ],
      "execution_count": 68,
      "outputs": [
        {
          "output_type": "stream",
          "text": [
            "tensor(17381.7227, grad_fn=<DivBackward0>)\n"
          ],
          "name": "stdout"
        }
      ]
    },
    {
      "cell_type": "markdown",
      "metadata": {
        "id": "Wrgb1GbQsr7k"
      },
      "source": [
        "As you can see above the loss has decreased by a huge number.\n",
        "we can perform the same task multiple times using for loop.\n",
        "usually we will perform this in the form of epochs in the realtime.\n",
        "Now lets traing the model using 100 epochs."
      ]
    },
    {
      "cell_type": "code",
      "metadata": {
        "id": "K2HHy4hXapIs"
      },
      "source": [
        "\n",
        "for i in range(100):\n",
        "  pred=model(input)\n",
        "  loss=error(pred,output)\n",
        "  loss.backward()\n",
        "  with torch.no_grad():\n",
        "      w-=w.grad*1e-5\n",
        "      b-=b.grad*1e-5\n",
        "      w.grad.zero_()\n",
        "      b.grad.zero_()\n",
        "  \n",
        "\n",
        "  \n",
        "\n"
      ],
      "execution_count": 69,
      "outputs": []
    },
    {
      "cell_type": "code",
      "metadata": {
        "id": "LHUog-hBbcyE",
        "outputId": "f8f1d936-4f2b-4b72-e139-cb8e49bdd307",
        "colab": {
          "base_uri": "https://localhost:8080/",
          "height": 34
        }
      },
      "source": [
        "pred=model(input)\n",
        "loss=error(pred,output)\n",
        "print(loss)"
      ],
      "execution_count": 70,
      "outputs": [
        {
          "output_type": "stream",
          "text": [
            "tensor(233.0965, grad_fn=<DivBackward0>)\n"
          ],
          "name": "stdout"
        }
      ]
    },
    {
      "cell_type": "code",
      "metadata": {
        "id": "KkVQa9vMbtFK",
        "outputId": "73eedbc0-1ff1-4633-c0ef-c14ce9ed956b",
        "colab": {
          "base_uri": "https://localhost:8080/",
          "height": 105
        }
      },
      "source": [
        "pred"
      ],
      "execution_count": 71,
      "outputs": [
        {
          "output_type": "execute_result",
          "data": {
            "text/plain": [
              "tensor([[ 63.1935,  68.7568],\n",
              "        [ 83.9066, 107.8742],\n",
              "        [105.1380, 119.0721],\n",
              "        [ 55.2783,  28.0567],\n",
              "        [ 85.0433, 137.0543]], grad_fn=<AddBackward0>)"
            ]
          },
          "metadata": {
            "tags": []
          },
          "execution_count": 71
        }
      ]
    },
    {
      "cell_type": "code",
      "metadata": {
        "id": "ImbH6Cf0byyC",
        "outputId": "5e858c8a-2c13-49ed-85a1-717b25201766",
        "colab": {
          "base_uri": "https://localhost:8080/",
          "height": 105
        }
      },
      "source": [
        "#As you can see the actual and the pred values are not having much difference as earlier\n",
        "output"
      ],
      "execution_count": 72,
      "outputs": [
        {
          "output_type": "execute_result",
          "data": {
            "text/plain": [
              "tensor([[ 56.,  70.],\n",
              "        [ 81., 101.],\n",
              "        [119., 133.],\n",
              "        [ 22.,  37.],\n",
              "        [103., 119.]])"
            ]
          },
          "metadata": {
            "tags": []
          },
          "execution_count": 72
        }
      ]
    },
    {
      "cell_type": "markdown",
      "metadata": {
        "id": "VL39s-U-t5d7"
      },
      "source": [
        "#Linear Regression using the pre-built functions of PYTORCH"
      ]
    },
    {
      "cell_type": "code",
      "metadata": {
        "id": "dDH0lze1ymuI"
      },
      "source": [
        "#the below package consists of utility classes  for building NN \n",
        "import torch.nn as nn"
      ],
      "execution_count": 73,
      "outputs": []
    },
    {
      "cell_type": "code",
      "metadata": {
        "id": "PQYtgIWezhBP"
      },
      "source": [
        "inputs=np.array([[73,67,43],\n",
        "                 [91,88,64],\n",
        "                 [87,134,58],\n",
        "                 [102,43,37],\n",
        "                 [69,96,70],[37,67,43],[91,88,64],[41,88,64],[29,28,64],[31,88,84],[51,80,60],[77,48,74],[61,58,104],[75,88,64],[85,48,58]],dtype='float32')\n",
        "outputs=np.array([[56,70],\n",
        "                 [81,101],\n",
        "                 [119,133],\n",
        "                 [22,37],\n",
        "                 [103,119],[13,19],[61,109],[58,52],[75,51],[61,68],[78,53],[65,83],[76,90],[51,85],[81,75]],dtype='float32')"
      ],
      "execution_count": 74,
      "outputs": []
    },
    {
      "cell_type": "code",
      "metadata": {
        "id": "3vwBzNWf1aZP",
        "outputId": "5605bf1f-7f95-472a-9ade-65976aa301ca",
        "colab": {
          "base_uri": "https://localhost:8080/",
          "height": 632
        }
      },
      "source": [
        "print(inputs)\n",
        "print(outputs)\n",
        "print(inputs.shape)\n",
        "print(outputs.shape)\n",
        "print(type(inputs))\n",
        "print(type(outputs))\n",
        "print(inputs.dtype)"
      ],
      "execution_count": 75,
      "outputs": [
        {
          "output_type": "stream",
          "text": [
            "[[ 73.  67.  43.]\n",
            " [ 91.  88.  64.]\n",
            " [ 87. 134.  58.]\n",
            " [102.  43.  37.]\n",
            " [ 69.  96.  70.]\n",
            " [ 37.  67.  43.]\n",
            " [ 91.  88.  64.]\n",
            " [ 41.  88.  64.]\n",
            " [ 29.  28.  64.]\n",
            " [ 31.  88.  84.]\n",
            " [ 51.  80.  60.]\n",
            " [ 77.  48.  74.]\n",
            " [ 61.  58. 104.]\n",
            " [ 75.  88.  64.]\n",
            " [ 85.  48.  58.]]\n",
            "[[ 56.  70.]\n",
            " [ 81. 101.]\n",
            " [119. 133.]\n",
            " [ 22.  37.]\n",
            " [103. 119.]\n",
            " [ 13.  19.]\n",
            " [ 61. 109.]\n",
            " [ 58.  52.]\n",
            " [ 75.  51.]\n",
            " [ 61.  68.]\n",
            " [ 78.  53.]\n",
            " [ 65.  83.]\n",
            " [ 76.  90.]\n",
            " [ 51.  85.]\n",
            " [ 81.  75.]]\n",
            "(15, 3)\n",
            "(15, 2)\n",
            "<class 'numpy.ndarray'>\n",
            "<class 'numpy.ndarray'>\n",
            "float32\n"
          ],
          "name": "stdout"
        }
      ]
    },
    {
      "cell_type": "code",
      "metadata": {
        "id": "twqntIWe1q4b"
      },
      "source": [
        "input=torch.from_numpy(inputs)\n",
        "output=torch.from_numpy(outputs)"
      ],
      "execution_count": 76,
      "outputs": []
    },
    {
      "cell_type": "code",
      "metadata": {
        "id": "eQybCzNd2Kkd",
        "outputId": "8dcfdc63-401c-45f4-a8ce-dcf936b6a774",
        "colab": {
          "base_uri": "https://localhost:8080/",
          "height": 632
        }
      },
      "source": [
        "print(input)\n",
        "print(output)\n",
        "print(input.shape)\n",
        "print(output.shape)\n",
        "print(type(input))\n",
        "print(type(output))\n",
        "print(input.dtype)"
      ],
      "execution_count": 77,
      "outputs": [
        {
          "output_type": "stream",
          "text": [
            "tensor([[ 73.,  67.,  43.],\n",
            "        [ 91.,  88.,  64.],\n",
            "        [ 87., 134.,  58.],\n",
            "        [102.,  43.,  37.],\n",
            "        [ 69.,  96.,  70.],\n",
            "        [ 37.,  67.,  43.],\n",
            "        [ 91.,  88.,  64.],\n",
            "        [ 41.,  88.,  64.],\n",
            "        [ 29.,  28.,  64.],\n",
            "        [ 31.,  88.,  84.],\n",
            "        [ 51.,  80.,  60.],\n",
            "        [ 77.,  48.,  74.],\n",
            "        [ 61.,  58., 104.],\n",
            "        [ 75.,  88.,  64.],\n",
            "        [ 85.,  48.,  58.]])\n",
            "tensor([[ 56.,  70.],\n",
            "        [ 81., 101.],\n",
            "        [119., 133.],\n",
            "        [ 22.,  37.],\n",
            "        [103., 119.],\n",
            "        [ 13.,  19.],\n",
            "        [ 61., 109.],\n",
            "        [ 58.,  52.],\n",
            "        [ 75.,  51.],\n",
            "        [ 61.,  68.],\n",
            "        [ 78.,  53.],\n",
            "        [ 65.,  83.],\n",
            "        [ 76.,  90.],\n",
            "        [ 51.,  85.],\n",
            "        [ 81.,  75.]])\n",
            "torch.Size([15, 3])\n",
            "torch.Size([15, 2])\n",
            "<class 'torch.Tensor'>\n",
            "<class 'torch.Tensor'>\n",
            "torch.float32\n"
          ],
          "name": "stdout"
        }
      ]
    },
    {
      "cell_type": "code",
      "metadata": {
        "id": "Qt34V7z-2b1k"
      },
      "source": [
        "#creating a tensordataset which allows us to access rows from input and targets as tuples\n",
        "#This allows us to access small set of data using array indexing\n",
        "#It returns a tuple where the first element contains the inputs for the selected rows and the second element contains the target elements\n",
        "#WE will also create a dataloader which will divide the data into batches of predefined size while training\n",
        "from torch.utils.data import TensorDataset\n",
        "from torch.utils.data import DataLoader"
      ],
      "execution_count": 78,
      "outputs": []
    },
    {
      "cell_type": "code",
      "metadata": {
        "id": "S5pPlXWu4KVR",
        "outputId": "48c89639-7ca5-48fe-9bac-23818579fc5c",
        "colab": {
          "base_uri": "https://localhost:8080/",
          "height": 140
        }
      },
      "source": [
        "#define dataset\n",
        "train=TensorDataset(input,output)\n",
        "train[0:4]"
      ],
      "execution_count": 79,
      "outputs": [
        {
          "output_type": "execute_result",
          "data": {
            "text/plain": [
              "(tensor([[ 73.,  67.,  43.],\n",
              "         [ 91.,  88.,  64.],\n",
              "         [ 87., 134.,  58.],\n",
              "         [102.,  43.,  37.]]), tensor([[ 56.,  70.],\n",
              "         [ 81., 101.],\n",
              "         [119., 133.],\n",
              "         [ 22.,  37.]]))"
            ]
          },
          "metadata": {
            "tags": []
          },
          "execution_count": 79
        }
      ]
    },
    {
      "cell_type": "code",
      "metadata": {
        "id": "PuTvc8Zz5OIK"
      },
      "source": [
        "#define dataloader\n",
        "batch_size=5\n",
        "data=DataLoader(train,batch_size,shuffle=True)"
      ],
      "execution_count": 80,
      "outputs": []
    },
    {
      "cell_type": "code",
      "metadata": {
        "id": "f2Uy0fcT6Qgo",
        "outputId": "98ab43b7-746e-474b-b6e1-edbb9e99acba",
        "colab": {
          "base_uri": "https://localhost:8080/",
          "height": 544
        }
      },
      "source": [
        "for i,j in data:\n",
        "  print(i)\n",
        "  print(j)\n",
        " "
      ],
      "execution_count": 81,
      "outputs": [
        {
          "output_type": "stream",
          "text": [
            "tensor([[ 37.,  67.,  43.],\n",
            "        [ 31.,  88.,  84.],\n",
            "        [102.,  43.,  37.],\n",
            "        [ 51.,  80.,  60.],\n",
            "        [ 87., 134.,  58.]])\n",
            "tensor([[ 13.,  19.],\n",
            "        [ 61.,  68.],\n",
            "        [ 22.,  37.],\n",
            "        [ 78.,  53.],\n",
            "        [119., 133.]])\n",
            "tensor([[ 29.,  28.,  64.],\n",
            "        [ 73.,  67.,  43.],\n",
            "        [ 61.,  58., 104.],\n",
            "        [ 85.,  48.,  58.],\n",
            "        [ 91.,  88.,  64.]])\n",
            "tensor([[ 75.,  51.],\n",
            "        [ 56.,  70.],\n",
            "        [ 76.,  90.],\n",
            "        [ 81.,  75.],\n",
            "        [ 61., 109.]])\n",
            "tensor([[77., 48., 74.],\n",
            "        [41., 88., 64.],\n",
            "        [69., 96., 70.],\n",
            "        [91., 88., 64.],\n",
            "        [75., 88., 64.]])\n",
            "tensor([[ 65.,  83.],\n",
            "        [ 58.,  52.],\n",
            "        [103., 119.],\n",
            "        [ 81., 101.],\n",
            "        [ 51.,  85.]])\n"
          ],
          "name": "stdout"
        }
      ]
    },
    {
      "cell_type": "code",
      "metadata": {
        "id": "tCCTlwHI6RWY",
        "outputId": "d652ea45-a896-4a00-bc96-2b20a04007cb",
        "colab": {
          "base_uri": "https://localhost:8080/",
          "height": 105
        }
      },
      "source": [
        "#Defining a model\n",
        "#instead of assigning weights manually we will now use the inbuilt functions \n",
        "#we can define the model using nn.linear which does automatically\n",
        "model=nn.Linear(3,2)\n",
        "print(model.weight)\n",
        "print(model.bias)"
      ],
      "execution_count": 82,
      "outputs": [
        {
          "output_type": "stream",
          "text": [
            "Parameter containing:\n",
            "tensor([[ 0.0023,  0.5424,  0.0374],\n",
            "        [ 0.1825, -0.2625, -0.2034]], requires_grad=True)\n",
            "Parameter containing:\n",
            "tensor([0.2045, 0.4457], requires_grad=True)\n"
          ],
          "name": "stdout"
        }
      ]
    },
    {
      "cell_type": "code",
      "metadata": {
        "id": "ThEaeHSJ8yxE",
        "outputId": "d7bff28a-4271-4db9-c355-760ec8fdc34d",
        "colab": {
          "base_uri": "https://localhost:8080/",
          "height": 87
        }
      },
      "source": [
        "list(model.parameters())"
      ],
      "execution_count": 91,
      "outputs": [
        {
          "output_type": "execute_result",
          "data": {
            "text/plain": [
              "[Parameter containing:\n",
              " tensor([[0.1228, 0.5191, 1.0057],\n",
              "         [0.2066, 0.2735, 0.6698]], requires_grad=True), Parameter containing:\n",
              " tensor([-0.1258, -0.1090], requires_grad=True)]"
            ]
          },
          "metadata": {
            "tags": []
          },
          "execution_count": 91
        }
      ]
    },
    {
      "cell_type": "code",
      "metadata": {
        "id": "V0uCNp_e8-uD",
        "outputId": "211779b7-4bef-4ac9-e41f-3cfb7a5646f7",
        "colab": {
          "base_uri": "https://localhost:8080/",
          "height": 280
        }
      },
      "source": [
        "#we can use the above created model to predict the outputs\n",
        "pred=model(input)\n",
        "pred"
      ],
      "execution_count": 92,
      "outputs": [
        {
          "output_type": "execute_result",
          "data": {
            "text/plain": [
              "tensor([[ 86.8611,  62.1061],\n",
              "        [121.0921,  85.6366],\n",
              "        [138.4447,  93.3738],\n",
              "        [ 71.9285,  57.5149],\n",
              "        [128.5786,  87.2978],\n",
              "        [ 82.4419,  54.6669],\n",
              "        [121.0921,  85.6366],\n",
              "        [114.9543,  75.3044],\n",
              "        [ 82.3360,  56.4124],\n",
              "        [133.8416,  86.6347],\n",
              "        [108.0062,  72.5032],\n",
              "        [108.6674,  78.5005],\n",
              "        [142.0664,  98.0247],\n",
              "        [119.1280,  82.3303],\n",
              "        [ 93.5576,  69.4362]], grad_fn=<AddmmBackward>)"
            ]
          },
          "metadata": {
            "tags": []
          },
          "execution_count": 92
        }
      ]
    },
    {
      "cell_type": "code",
      "metadata": {
        "id": "GmUIYNPc9Kcr"
      },
      "source": [
        "#From the above code we can see that once again the predicted outputs are quiet different from actual outputs\n",
        "#now we will define the inbuilt loss function to evaluate the model\n",
        "import torch.nn.functional as F"
      ],
      "execution_count": 93,
      "outputs": []
    },
    {
      "cell_type": "code",
      "metadata": {
        "id": "iMcPq8yK9zLF",
        "outputId": "6de7bcfd-deb9-4e31-8cb2-cc3cdd84f5b7",
        "colab": {
          "base_uri": "https://localhost:8080/",
          "height": 34
        }
      },
      "source": [
        "loss_fn=F.mse_loss\n",
        "loss=loss_fn(pred,output)\n",
        "loss"
      ],
      "execution_count": 94,
      "outputs": [
        {
          "output_type": "execute_result",
          "data": {
            "text/plain": [
              "tensor(1387.6022, grad_fn=<MseLossBackward>)"
            ]
          },
          "metadata": {
            "tags": []
          },
          "execution_count": 94
        }
      ]
    },
    {
      "cell_type": "code",
      "metadata": {
        "id": "hHlWgqRj-K7j"
      },
      "source": [
        "#As we can see the loss is very high in order to reduce the loss we need to optimise using stocastic gradient descent(SGD)\n",
        "#It is called stochastic because samples are taken as batches instead of a single group\n",
        "#defining the optimizer\n",
        "optim=torch.optim.SGD(model.parameters(),lr=1e-4)"
      ],
      "execution_count": 95,
      "outputs": []
    },
    {
      "cell_type": "code",
      "metadata": {
        "id": "WBbS7Mg2_OKh"
      },
      "source": [
        "#After creating the optimizer we need to train the model \n",
        "#For training the model we need to follow the exact same steps which we have followed earlier\n",
        "def fit(epoch,model,loss,opt,train):\n",
        "  for ep in range(epoch):\n",
        "    for x,y in train:\n",
        "      #model prediction\n",
        "      pred=model(x)\n",
        "      #calculate loss\n",
        "      loss=loss_fn(pred,y)\n",
        "      #calculate gradients\n",
        "      loss.backward()\n",
        "      #update the parameters using gradients\n",
        "      opt.step()\n",
        "      #reset the gradients to zero\n",
        "      opt.zero_grad()\n",
        "    if (ep+1)%10==0:\n",
        "      print(ep+1,loss)  \n",
        "      "
      ],
      "execution_count": 96,
      "outputs": []
    },
    {
      "cell_type": "code",
      "metadata": {
        "id": "EvTA1H4fAzqX",
        "outputId": "7c45ae48-33d4-403c-80b6-1c59af75009f",
        "colab": {
          "base_uri": "https://localhost:8080/",
          "height": 193
        }
      },
      "source": [
        "fit(100,model,loss_fn,optim,train)"
      ],
      "execution_count": 97,
      "outputs": [
        {
          "output_type": "stream",
          "text": [
            "10 tensor(1126.3486, grad_fn=<MseLossBackward>)\n",
            "20 tensor(1126.4591, grad_fn=<MseLossBackward>)\n",
            "30 tensor(1126.5710, grad_fn=<MseLossBackward>)\n",
            "40 tensor(1126.6827, grad_fn=<MseLossBackward>)\n",
            "50 tensor(1126.7933, grad_fn=<MseLossBackward>)\n",
            "60 tensor(1126.9058, grad_fn=<MseLossBackward>)\n",
            "70 tensor(1127.0181, grad_fn=<MseLossBackward>)\n",
            "80 tensor(1127.1300, grad_fn=<MseLossBackward>)\n",
            "90 tensor(1127.2433, grad_fn=<MseLossBackward>)\n",
            "100 tensor(1127.3564, grad_fn=<MseLossBackward>)\n"
          ],
          "name": "stdout"
        }
      ]
    },
    {
      "cell_type": "code",
      "metadata": {
        "id": "yH3GokzuA7yl",
        "outputId": "6068e790-367d-4eaa-9c7d-75d83fa7ff17",
        "colab": {
          "base_uri": "https://localhost:8080/",
          "height": 280
        }
      },
      "source": [
        "pred"
      ],
      "execution_count": 98,
      "outputs": [
        {
          "output_type": "execute_result",
          "data": {
            "text/plain": [
              "tensor([[ 86.8611,  62.1061],\n",
              "        [121.0921,  85.6366],\n",
              "        [138.4447,  93.3738],\n",
              "        [ 71.9285,  57.5149],\n",
              "        [128.5786,  87.2978],\n",
              "        [ 82.4419,  54.6669],\n",
              "        [121.0921,  85.6366],\n",
              "        [114.9543,  75.3044],\n",
              "        [ 82.3360,  56.4124],\n",
              "        [133.8416,  86.6347],\n",
              "        [108.0062,  72.5032],\n",
              "        [108.6674,  78.5005],\n",
              "        [142.0664,  98.0247],\n",
              "        [119.1280,  82.3303],\n",
              "        [ 93.5576,  69.4362]], grad_fn=<AddmmBackward>)"
            ]
          },
          "metadata": {
            "tags": []
          },
          "execution_count": 98
        }
      ]
    },
    {
      "cell_type": "code",
      "metadata": {
        "id": "vkCaZ_h7C_Iv",
        "outputId": "5ecf10e9-a558-4b57-a10f-64fe995a7101",
        "colab": {
          "base_uri": "https://localhost:8080/",
          "height": 280
        }
      },
      "source": [
        "output"
      ],
      "execution_count": 99,
      "outputs": [
        {
          "output_type": "execute_result",
          "data": {
            "text/plain": [
              "tensor([[ 56.,  70.],\n",
              "        [ 81., 101.],\n",
              "        [119., 133.],\n",
              "        [ 22.,  37.],\n",
              "        [103., 119.],\n",
              "        [ 13.,  19.],\n",
              "        [ 61., 109.],\n",
              "        [ 58.,  52.],\n",
              "        [ 75.,  51.],\n",
              "        [ 61.,  68.],\n",
              "        [ 78.,  53.],\n",
              "        [ 65.,  83.],\n",
              "        [ 76.,  90.],\n",
              "        [ 51.,  85.],\n",
              "        [ 81.,  75.]])"
            ]
          },
          "metadata": {
            "tags": []
          },
          "execution_count": 99
        }
      ]
    },
    {
      "cell_type": "code",
      "metadata": {
        "id": "q_r9y2IYDEEd"
      },
      "source": [
        ""
      ],
      "execution_count": null,
      "outputs": []
    }
  ]
}